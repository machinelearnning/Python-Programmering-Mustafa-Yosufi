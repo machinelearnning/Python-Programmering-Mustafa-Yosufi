{
 "cells": [
  {
   "cell_type": "code",
   "execution_count": 1,
   "metadata": {},
   "outputs": [
    {
     "name": "stdout",
     "output_type": "stream",
     "text": [
      "4.5\n"
     ]
    }
   ],
   "source": [
    "# Area triangel\n",
    "\n",
    "def area(hieght, base):\n",
    "    area_triangel = (hieght * base)/2\n",
    "    return area_triangel\n",
    "\n",
    "print(area(3, 3))"
   ]
  },
  {
   "cell_type": "code",
   "execution_count": 17,
   "metadata": {},
   "outputs": [
    {
     "name": "stdout",
     "output_type": "stream",
     "text": [
      "10.44030650891055\n",
      "the distance of your points is: 3.0083217912982647\n",
      "[10.4, 9.1, 14.1, 4.5, 13.5]\n"
     ]
    }
   ],
   "source": [
    "# Euclidean distance\n",
    "import numpy as np\n",
    "def distans(firs, secon):\n",
    "    first = firs\n",
    "    second = secon\n",
    "    disant = np.sqrt(np.power(second[0] - first[0], 2) + np.power(second[1] - first[1], 2))\n",
    "    return disant\n",
    "\n",
    "first = (0, 0)\n",
    "second = (10, 3)\n",
    "print(distans(first, second))\n",
    "\n",
    "# input user\n",
    "first = float(input(\"Enter the first part of your first point\"))\n",
    "second = float(input(\"Enter the second part of your first point\"))\n",
    "third = float(input(\"Enter the first part of your second point\"))\n",
    "fourth = float(input(\"Enter the second part of your second point\"))\n",
    "\n",
    "first_point = (first, second)\n",
    "second_point = (third, fourth)\n",
    "\n",
    "res = distans(first_point, second_point)\n",
    "print(f\"The distance of your points is: {round(res, 2)}\")\n",
    "\n",
    "# list\n",
    "list_point = [(10, 3), (-1, -9), (10, -10), (4, -2), (9, -10)]\n",
    "list_point2 = [(0, 0), (0, 0), (0, 0), (0, 0), (0, 0)]\n",
    "list_result = []\n",
    "for x in range(len(list_point)):\n",
    "    list_result.append(round(distans(list_point[x], list_point2[x]), 1))\n",
    "\n",
    "print(list_result)\n",
    "\n"
   ]
  },
  {
   "cell_type": "code",
   "execution_count": null,
   "metadata": {},
   "outputs": [],
   "source": [
    "#  Mathematical functions \n",
    "import matplotlib.pyplot as plt\n",
    "\n",
    "x_values = np.linspace(-10, 10)\n",
    "\n",
    "def math1(x_values):\n",
    "    list_1 = []\n",
    "\n",
    "    for x in x_values:\n",
    "        list_1.append(np.power(x, 2)-3)\n",
    "\n",
    "    return list_1\n",
    "\n",
    "def math2(x_values):\n",
    "    lin_list = []\n",
    "\n",
    "    for x in x_values:\n",
    "        lin_list.append(np.multiply(4, x) - 7)\n",
    "\n",
    "    return lin_list\n",
    "\n",
    "plt.plot(x_values, math1(x_values))\n",
    "plt.plot(x_values, math2(x_values))\n",
    "plt.show()"
   ]
  },
  {
   "cell_type": "code",
   "execution_count": 84,
   "metadata": {},
   "outputs": [
    {
     "name": "stdout",
     "output_type": "stream",
     "text": [
      "['Marcus', 'Ida', 'Anderson', 'Olof', 'Olofsson']\n"
     ]
    }
   ],
   "source": [
    "# Name Cleaner\n",
    "\n",
    "lis = [\"  MaRcUs \", \" iDA aNderSon\", \"OLOF Olofsson            \"  ]\n",
    "\n",
    "ve = []\n",
    "ddd = []\n",
    "for i in lis:\n",
    "    de =  (i.split())\n",
    "    for x in de:\n",
    "        ve.append(x.strip().lower().capitalize())\n",
    "   \n",
    "    \n",
    "\n",
    "de = tuple(ve)\n",
    "print(ve)\n",
    "\n",
    "    "
   ]
  }
 ],
 "metadata": {
  "kernelspec": {
   "display_name": "base",
   "language": "python",
   "name": "python3"
  },
  "language_info": {
   "codemirror_mode": {
    "name": "ipython",
    "version": 3
   },
   "file_extension": ".py",
   "mimetype": "text/x-python",
   "name": "python",
   "nbconvert_exporter": "python",
   "pygments_lexer": "ipython3",
   "version": "3.11.7"
  }
 },
 "nbformat": 4,
 "nbformat_minor": 2
}
