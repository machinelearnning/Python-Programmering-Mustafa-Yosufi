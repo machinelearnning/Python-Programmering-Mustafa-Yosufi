{
 "cells": [
  {
   "cell_type": "code",
   "execution_count": null,
   "metadata": {},
   "outputs": [],
   "source": [
    "import dash\n",
    "from dash import dcc, html\n",
    "\n",
    "#Figurparametern är i huvudsak en ordbok som har element som x, y , typ, namn .\n",
    "#x refererar till X-axelns värde (det kan vara en lista eller ett enstaka element), y är detsamma förutom att det är associerat med Y-axeln.\n",
    "#Typparametern hänvisar till grafens typ, det kanske linje , stapel .\n",
    "#Namnparametern hänvisar till namnet som är kopplat till en grafs axel\n",
    "\n",
    "app = dash.Dash()\n",
    "\n",
    "app.layout = html.Div([\n",
    "    html.H1(children=\"mose\",\n",
    "            style = {\"textAlign\": \"center\", \"color\": \"#FF0000\" }),# hexadecimal code\n",
    "    html.Div(children=\"this is nice very\",\n",
    "            style = {\"textAlign\": \"center\", \"color\": \"#FF0000\" }),\n",
    "    dcc.Graph(id = \"fors\",\n",
    "              figure= {\"data\": [{\"x\": [1, 2, 3, 4], \"y\":[5, 6, 7, 8], \"type\": \"bar\", \"name\": \"like\"}],\n",
    "                       \"layout\": {\n",
    "                           \"plot_bgcolor\": \"#D3D3D3\",\n",
    "                           \"paper_bgcolor\": \"#D3D3D3\", \n",
    "                           \"font\" : {\"color\" : \"#FF0000\"},\n",
    "                           \"title\": \"prince\"}})\n",
    "])\n"
   ]
  },
  {
   "cell_type": "markdown",
   "metadata": {},
   "source": [
    "# how to make som style in head and layout"
   ]
  },
  {
   "cell_type": "code",
   "execution_count": null,
   "metadata": {},
   "outputs": [],
   "source": [
    "app = dash.Dash()\n",
    "\n",
    "app.layout = html.Div([\n",
    "    html.H1(children=\"mose\",\n",
    "            style = {\"textAlign\": \"center\", \"color\": \"#456fbv\" }),\n",
    "    html.Div(children=\"this is nice very\",\n",
    "            style = {\"textAlign\": \"center\", \"color\": \"#456fbv\" }),\n",
    "    dcc.Graph(id = \"fors\",\n",
    "              figure= {\"data\": [{\"x\": [1, 2, 3, 4], \"y\":[5, 6, 7, 8], \"type\": \"bar\", \"name\": \"like\"}],\n",
    "                       \"layout\": {\"title\": \"prince\"}})\n",
    "])\n",
    "\n",
    "if __name__ == \"__main__\":\n",
    "    app.run_server(port = 4050)\n"
   ]
  },
  {
   "cell_type": "markdown",
   "metadata": {},
   "source": [
    "# how to use scatter in app"
   ]
  },
  {
   "cell_type": "code",
   "execution_count": null,
   "metadata": {},
   "outputs": [],
   "source": [
    "import numpy as np\n",
    "import plotly.graph_objects as go\n",
    "import dash\n",
    "from dash import dcc, html\n",
    "\n",
    "r = np.random.seed(43)\n",
    "xx = np.random.randint(1, 60, 60)\n",
    "yy = np.random.randint(1, 60, 60)\n",
    "app = dash.Dash()\n",
    "app.layout = html.Div([\n",
    "    dcc.Graph(\n",
    "        id = \"lik\",\n",
    "        figure= {\"data\": [\n",
    "            go.Scatter(\n",
    "                x = xx,\n",
    "                y = yy,\n",
    "                mode = \"markers\"\n",
    "            )\n",
    "        ],\n",
    "        \"layout\": go.Layout(\n",
    "            title = \"scatter of random\",\n",
    "            xaxis = {\"title\": \"random X Values\"}, \n",
    "            yaxis = {\"title\": \"random Y Values\"}\n",
    "        )\n",
    "        })\n",
    "])\n",
    "\n",
    "if __name__ == \"__main__\":\n",
    "    app.run_server(port = 4051)\n"
   ]
  },
  {
   "cell_type": "markdown",
   "metadata": {},
   "source": [
    "# How to make options, input, slider"
   ]
  },
  {
   "cell_type": "code",
   "execution_count": 42,
   "metadata": {},
   "outputs": [],
   "source": [
    "import dash \n",
    "from dash import dcc, html\n",
    "\n",
    "app = dash.Dash()\n",
    "app.layout = html.Div([\n",
    "    html.Label(\"nicenice\"),\n",
    "    dcc.Dropdown([\n",
    "        {\"label\": \"for\", \"value\": \"df\"},\n",
    "        {\"label\": \"dfj\", \"value\": \"sdfj\", \"disabled\": True}\n",
    "    ], placeholder= \"valla\"),\n",
    "    html.Label(\"hop\"),\n",
    "    dcc.Slider(\n",
    "        min = 1, \n",
    "        max = 10, \n",
    "        value = 3, \n",
    "        marks = {i: i for i in range(10)}\n",
    "    ),\n",
    "    html.Label(\"vdsa\"),\n",
    "    dcc.RangeSlider(\n",
    "        min = 1, \n",
    "        max = 10, \n",
    "        step = .5,  # put a point between each number\n",
    "        value = [3, 6],# where the slide is when you open the app\n",
    "        marks = {i: i for i in range(10)}\n",
    "    ),\n",
    "    html.Br(),\n",
    "    html.Br(),\n",
    "    html.Label(\"Enter information\"),\n",
    "    dcc.Input(\n",
    "        placeholder= \"input your name\",\n",
    "        type = \"text\",\n",
    "        value = \"\"\n",
    "    )\n",
    "])"
   ]
  },
  {
   "cell_type": "code",
   "execution_count": null,
   "metadata": {},
   "outputs": [],
   "source": [
    "if __name__ == \"__main__\":\n",
    "    app.run_server()"
   ]
  },
  {
   "cell_type": "code",
   "execution_count": null,
   "metadata": {},
   "outputs": [],
   "source": []
  }
 ],
 "metadata": {
  "kernelspec": {
   "display_name": "base",
   "language": "python",
   "name": "python3"
  },
  "language_info": {
   "codemirror_mode": {
    "name": "ipython",
    "version": 3
   },
   "file_extension": ".py",
   "mimetype": "text/x-python",
   "name": "python",
   "nbconvert_exporter": "python",
   "pygments_lexer": "ipython3",
   "version": "3.11.7"
  }
 },
 "nbformat": 4,
 "nbformat_minor": 2
}
