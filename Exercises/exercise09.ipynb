{
 "cells": [
  {
   "cell_type": "code",
   "execution_count": 3,
   "metadata": {},
   "outputs": [
    {
     "data": {
      "text/plain": [
       "350"
      ]
     },
     "execution_count": 3,
     "metadata": {},
     "output_type": "execute_result"
    }
   ],
   "source": [
    "# 1. Curriculum\n",
    "\n",
    "course = {\"python\":90, \"git\": 90, \"algebra\":90, \"prov\": 80}\n",
    "point = 0\n",
    "for x in course:\n",
    "    point += course[x]\n",
    "point"
   ]
  },
  {
   "cell_type": "code",
   "execution_count": 15,
   "metadata": {},
   "outputs": [
    {
     "name": "stdout",
     "output_type": "stream",
     "text": [
      "One: 166442\n",
      "Two: 167058\n",
      "Three: 166952\n",
      "Four: 167283\n",
      "Five: 166068\n",
      "Sex: 166197\n"
     ]
    }
   ],
   "source": [
    "# 1. Curriculum\n",
    "import numpy as np\n",
    "\n",
    "num = np.random.randint(1, 7, size = 1000_000)\n",
    "sort_num = {}\n",
    "one, two, three, four, five, sex = 0, 0, 0, 0, 0, 0\n",
    "\n",
    "for x in num:\n",
    "    if x  == 1:\n",
    "      one += x\n",
    "    elif x == 2:\n",
    "       two += 1\n",
    "    elif x == 3:\n",
    "       three += 1\n",
    "    elif x == 4:\n",
    "       four += 1\n",
    "    elif x == 5:\n",
    "       five += 1\n",
    "    else:\n",
    "       sex += 1\n",
    "\n",
    "dei = {\"One\": one, \"Two\": two, \"Three\": three, \"Four\": four, \"Five\": five, \"Sex\": sex }\n",
    "\n",
    "for x in dei:\n",
    "   print(f\"{x}: {dei[x]}\")"
   ]
  },
  {
   "cell_type": "code",
   "execution_count": 46,
   "metadata": {},
   "outputs": [
    {
     "name": "stdout",
     "output_type": "stream",
     "text": [
      "Spöke/Gift, 94\n",
      "Elektrisk, 25\n"
     ]
    }
   ],
   "source": [
    "# 3. Pokemon list\n",
    "\n",
    "import pandas as pd \n",
    "df = pd.read_csv(\"pokemon_list.txt\")\n",
    "df\n",
    "se = list(df[\"1 Bulbasaur Gräs/Gift\"])\n",
    "se.append(\"1 Bulbasaur Gräs/Gift\")\n",
    "dd = pd.DataFrame(se, columns= [\"name\"])\n",
    "dd[\"type\"] = dd[\"name\"].str.split(\" \").str.get(2)\n",
    "dd[\"num\"] = dd[\"name\"].str.split(\" \").str.get(0)\n",
    "dd[\"name\"] = dd[\"name\"].str.split(\" \").str.get(1)\n",
    "\n",
    "\n",
    "pokedex = {}\n",
    "for x in range(len(dd)):\n",
    "    pokedex[dd.loc[x, \"name\"]] = dd.loc[x, \"type\"]+ \", \" +dd.loc[x, \"num\"]\n",
    "\n",
    "print(pokedex[\"Gengar\"])\n",
    "print(pokedex[\"Pikachu\"])"
   ]
  },
  {
   "cell_type": "code",
   "execution_count": 78,
   "metadata": {},
   "outputs": [
    {
     "name": "stdout",
     "output_type": "stream",
     "text": [
      " . -. - . .-."
     ]
    }
   ],
   "source": [
    "# 4. Morse code\n",
    "import json\n",
    "morse = pd.read_csv(\"morse.txt\")\n",
    "morse = list(morse[\"A: .-\"])\n",
    "morse.append(\"A: .-\")\n",
    "morse = pd.DataFrame(morse, columns= [\"letters\"])\n",
    "morse[\"char\"] = morse[\"letters\"].str.split(\":\").str.get(1)\n",
    "morse[\"letters\"] = morse[\"letters\"].str.split(\":\").str.get(0)\n",
    "morse\n",
    "mors_dic = {}\n",
    "for x in range(len(morse)):\n",
    "   mors_dic[morse.loc[x, \"letters\"]] = morse.loc[x, \"char\"]\n",
    "\n",
    "in_data = input(\"Enter a word\")\n",
    "for x in in_data:\n",
    "   print(mors_dic[x], end=\"\")"
   ]
  }
 ],
 "metadata": {
  "kernelspec": {
   "display_name": "base",
   "language": "python",
   "name": "python3"
  },
  "language_info": {
   "codemirror_mode": {
    "name": "ipython",
    "version": 3
   },
   "file_extension": ".py",
   "mimetype": "text/x-python",
   "name": "python",
   "nbconvert_exporter": "python",
   "pygments_lexer": "ipython3",
   "version": "3.11.7"
  }
 },
 "nbformat": 4,
 "nbformat_minor": 2
}
