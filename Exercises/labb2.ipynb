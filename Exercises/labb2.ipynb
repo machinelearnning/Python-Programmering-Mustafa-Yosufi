{
 "cells": [
  {
   "cell_type": "code",
   "execution_count": 21,
   "metadata": {},
   "outputs": [
    {
     "data": {
      "image/png": "[encoded data removed]",
      "text/plain": [
       "<Figure size 640x480 with 1 Axes>"
      ]
     },
     "metadata": {},
     "output_type": "display_data"
    }
   ],
   "source": [
    "import pandas as pd\n",
    "import matplotlib.pyplot as plt\n",
    "\n",
    "df = pd.read_csv(\"datapoints.txt\")\n",
    "df.columns = df.columns.str.replace(\"(\", \"\").str.replace(\")\", \"\").str.strip().str.replace(\" \", \"_\").str.capitalize()\n",
    "df[\"Pichu-0_pikachu-1\"] = df[\"Label_0-pichu\"]\n",
    "df = df.drop([\"Label_0-pichu\", \"1-pikachu\"], axis = 1)\n",
    "\n",
    "\n",
    "pikachu = df[df[\"Pichu-0_pikachu-1\"] == 1]\n",
    "pichu = df[df[\"Pichu-0_pikachu-1\"] == 0]\n",
    "\n",
    "plt.scatter(x = pichu[\"Width_cm\"], y = pichu[\"Height_cm\"], color = \"red\")\n",
    "plt.scatter(x = pikachu[\"Width_cm\"], y = pikachu[\"Height_cm\"], color = \"blue\")\n",
    "plt.show\n",
    "\n",
    "test_list = []\n",
    "with open(\"testpoints.txt\", \"r\") as test_file:\n",
    "    fil = test_file.readlines()\n",
    "    for line in fil:\n",
    "        test_list.append(line)\n",
    "\n",
    "test_data = pd.DataFrame(test_list, columns= [\"test_d\"]) # omvandla listen till en dataframe\n",
    "test_data = test_data.drop(0, axis = 0)                  # göra om data till lämplig struktur\n",
    "test_data[\"Width_cm\"] = test_data[\"test_d\"].str.split(\"(\").str.get(1).str.split(\",\").str.get(0)\n",
    "test_data[\"Height_cm\"] = test_data[\"test_d\"].str.split(\")\").str.get(0).str.split(\",\").str.get(1)\n",
    "test_data = test_data.drop(\"test_d\", axis= 1)\n",
    "test_data[[\"Height_cm\", \"Width_cm\"]] = test_data[[\"Height_cm\", \"Width_cm\"]].astype(float)"
   ]
  },
  {
   "cell_type": "code",
   "execution_count": 23,
   "metadata": {},
   "outputs": [
    {
     "name": "stdout",
     "output_type": "stream",
     "text": [
      "1\n",
      "1\n",
      "1\n",
      "0\n"
     ]
    }
   ],
   "source": [
    "import numpy as np\n",
    "def clasify_point(maj, data_x , data_y,pic_pika, wid, hei):\n",
    "    points_distans =[(np.sqrt(np.power(x- wid, 2) + np.power(y- hei, 2))) \n",
    "                     for x, y in zip(data_x, data_y)]\n",
    "    \n",
    "    if maj == 1:\n",
    "\n",
    "        min_value = min(points_distans)\n",
    "        index_value = points_distans.index(min_value)\n",
    "    \n",
    "        if pic_pika[index_value] != 0:\n",
    "            return 1\n",
    "        else:\n",
    "            return 0\n",
    "    \n",
    "    elif maj == 10:\n",
    "        sort_values = sorted(points_distans)\n",
    "        ten_values = sort_values[:10]\n",
    "        index_lis_values = [points_distans.index(x) for x in ten_values]\n",
    "        choose_maj = sum([pic_pika[x] for x in index_lis_values])\n",
    "\n",
    "        if choose_maj > 5:\n",
    "            return 1\n",
    "        else:\n",
    "            return 0\n",
    "        \n",
    "    else:\n",
    "        print(\"Enter 1 or 10\")\n",
    "        \n",
    "# köra test data med df som tränings data\n",
    "for x , y in zip(test_data[\"Width_cm\"], test_data[\"Height_cm\"]):\n",
    "    print(clasify_point(1, df[\"Width_cm\"], df[\"Height_cm\"], df[\"Pichu-0_pikachu-1\"],x, y))"
   ]
  },
  {
   "cell_type": "code",
   "execution_count": 24,
   "metadata": {},
   "outputs": [
    {
     "name": "stdout",
     "output_type": "stream",
     "text": [
      "0\n"
     ]
    }
   ],
   "source": [
    "# om inmatade data är en picho eller pikacho   \n",
    "while True:\n",
    "    x_input = input(\"Enter your first positiv numbers.\")\n",
    "    y_input = input(\"Enter your second positiv numbers.\")\n",
    "\n",
    "    width = x_input # används för att kontrolera om ett number är negativ\n",
    "    height = y_input\n",
    "\n",
    "    x_input = x_input.replace(\".\", \"\").replace(\"-\", \"\") # ta bort de karäktarer för att det skulle bli läsbar\n",
    "    y_input = y_input.replace(\".\", \"\").replace(\"-\", \"\")\n",
    "\n",
    "    if x_input.isdigit() == False or y_input.isdigit() == False:\n",
    "        print(\"You have entered a character which is not a number\")\n",
    "        print(\"You need to enter a number. ex: 23 or 34.23\")\n",
    "    \n",
    "    width = float(width)\n",
    "    height = float(height)\n",
    "\n",
    "    if height > 0 and width > 0:\n",
    "        print(clasify_point(1, df[\"Width_cm\"], df[\"Height_cm\"], df[\"Pichu-0_pikachu-1\"], width, height))\n",
    "        break\n",
    "    elif height < 0 or width < 0:\n",
    "        print(\"You have entered a negative number\")\n",
    "        print(\"Try again\")\n",
    "\n"
   ]
  },
  {
   "cell_type": "code",
   "execution_count": 25,
   "metadata": {},
   "outputs": [
    {
     "data": {
      "text/plain": [
       "array([[25,  2],\n",
       "       [ 1, 22]], dtype=int64)"
      ]
     },
     "execution_count": 25,
     "metadata": {},
     "output_type": "execute_result"
    }
   ],
   "source": [
    "from sklearn.model_selection import train_test_split\n",
    "from sklearn.metrics import confusion_matrix\n",
    "\n",
    "x = df[[\"Width_cm\", \"Height_cm\"]] # features\n",
    "y = df[\"Pichu-0_pikachu-1\"] # label\n",
    "\n",
    "x_train,y_train, x_test, y_test = train_test_split(x, y, random_state = 26, test_size = 0.333)\n",
    "\n",
    "width_training = [x for x in x_train[\"Width_cm\"]]\n",
    "height_training = [x for x in x_train[\"Height_cm\"]]\n",
    "label_training= [x for x in x_test]\n",
    "y_label = [x for x in y_test]\n",
    "\n",
    "prediction = [(clasify_point(10, width_training, height_training, label_training, x, y)) \n",
    "                      for x, y in zip(y_train[\"Width_cm\"], y_train[\"Height_cm\"])]\n",
    "\n",
    "con_accuraccy = confusion_matrix(prediction, y_label)\n",
    "con_accuraccy\n",
    "\n"
   ]
  },
  {
   "cell_type": "code",
   "execution_count": null,
   "metadata": {},
   "outputs": [],
   "source": [
    "prediction = [(clasify_point(1, x_train[\"Width_cm\"], x_train[\"Height_cm\"], x_test, x, y)) \n",
    "                for x, y in zip(y_train[\"Width_cm\"], y_train[\"Height_cm\"])]\n",
    "\n",
    "con_accuraccy = confusion_matrix(prediction, y_test)\n",
    "con_accuraccy"
   ]
  },
  {
   "cell_type": "code",
   "execution_count": 122,
   "metadata": {},
   "outputs": [
    {
     "data": {
      "text/html": [
       "<div>\n",
       "<style scoped>\n",
       "    .dataframe tbody tr th:only-of-type {\n",
       "        vertical-align: middle;\n",
       "    }\n",
       "\n",
       "    .dataframe tbody tr th {\n",
       "        vertical-align: top;\n",
       "    }\n",
       "\n",
       "    .dataframe thead th {\n",
       "        text-align: right;\n",
       "    }\n",
       "</style>\n",
       "<table border=\"1\" class=\"dataframe\">\n",
       "  <thead>\n",
       "    <tr style=\"text-align: right;\">\n",
       "      <th></th>\n",
       "      <th>Width_cm</th>\n",
       "      <th>Height_cm</th>\n",
       "    </tr>\n",
       "  </thead>\n",
       "  <tbody>\n",
       "    <tr>\n",
       "      <th>88</th>\n",
       "      <td>18.989418</td>\n",
       "      <td>30.905568</td>\n",
       "    </tr>\n",
       "    <tr>\n",
       "      <th>19</th>\n",
       "      <td>17.905129</td>\n",
       "      <td>28.888134</td>\n",
       "    </tr>\n",
       "    <tr>\n",
       "      <th>37</th>\n",
       "      <td>20.795122</td>\n",
       "      <td>32.493052</td>\n",
       "    </tr>\n",
       "    <tr>\n",
       "      <th>10</th>\n",
       "      <td>25.813563</td>\n",
       "      <td>35.561030</td>\n",
       "    </tr>\n",
       "    <tr>\n",
       "      <th>41</th>\n",
       "      <td>26.388368</td>\n",
       "      <td>35.620907</td>\n",
       "    </tr>\n",
       "    <tr>\n",
       "      <th>...</th>\n",
       "      <td>...</td>\n",
       "      <td>...</td>\n",
       "    </tr>\n",
       "    <tr>\n",
       "      <th>77</th>\n",
       "      <td>24.477962</td>\n",
       "      <td>35.321466</td>\n",
       "    </tr>\n",
       "    <tr>\n",
       "      <th>102</th>\n",
       "      <td>24.686621</td>\n",
       "      <td>33.104764</td>\n",
       "    </tr>\n",
       "    <tr>\n",
       "      <th>6</th>\n",
       "      <td>24.736457</td>\n",
       "      <td>35.332912</td>\n",
       "    </tr>\n",
       "    <tr>\n",
       "      <th>62</th>\n",
       "      <td>23.388323</td>\n",
       "      <td>36.770000</td>\n",
       "    </tr>\n",
       "    <tr>\n",
       "      <th>53</th>\n",
       "      <td>20.276898</td>\n",
       "      <td>33.846582</td>\n",
       "    </tr>\n",
       "  </tbody>\n",
       "</table>\n",
       "<p>100 rows × 2 columns</p>\n",
       "</div>"
      ],
      "text/plain": [
       "      Width_cm  Height_cm\n",
       "88   18.989418  30.905568\n",
       "19   17.905129  28.888134\n",
       "37   20.795122  32.493052\n",
       "10   25.813563  35.561030\n",
       "41   26.388368  35.620907\n",
       "..         ...        ...\n",
       "77   24.477962  35.321466\n",
       "102  24.686621  33.104764\n",
       "6    24.736457  35.332912\n",
       "62   23.388323  36.770000\n",
       "53   20.276898  33.846582\n",
       "\n",
       "[100 rows x 2 columns]"
      ]
     },
     "execution_count": 122,
     "metadata": {},
     "output_type": "execute_result"
    }
   ],
   "source": [
    "from sklearn.metrics import confusion_matrix\n",
    "from sklearn.model_selection import train_test_split\n",
    "x = df[[\"Width_cm\", \"Height_cm\"]] # features\n",
    "y = df[\"Pichu-0_pikachu-1\"] # label\n",
    "x_train,y_train, x_test, y_test = train_test_split(x, y, random_state = 26, test_size = 0.333) \n",
    "\n",
    "\n",
    "#predic = [(closest_point(x, y)) for x, y in zip(y_train[\"Width_cm\"], y_train[\"Height_cm\"])]\n",
    "#con = confusion_matrix(predic, y_test)\n",
    "x_train\n"
   ]
  },
  {
   "cell_type": "code",
   "execution_count": 78,
   "metadata": {},
   "outputs": [
    {
     "name": "stdout",
     "output_type": "stream",
     "text": [
      "2335232342\n"
     ]
    }
   ],
   "source": [
    "num = int(\"2335232342\")\n",
    "print(num)"
   ]
  },
  {
   "cell_type": "code",
   "execution_count": 112,
   "metadata": {},
   "outputs": [],
   "source": [
    "def closest_point(wid, hig):\n",
    "    points_distans =[(np.sqrt(np.power(x- wid, 2) + np.power(y- hig, 2))) \n",
    "                     for x, y in zip(x_train[\"Width_cm\"], x_train[\"Height_cm\"])]\n",
    "    \n",
    "    min_value = min(points_distans)\n",
    "    index_value = points_distans.index(min_value)\n",
    "    \n",
    "    if df.loc[index_value, \"Pichu-0_pikachu-1\"] == 0:\n",
    "        return 0\n",
    "    else:\n",
    "        return 1\n",
    "        \n",
    "\n"
   ]
  },
  {
   "cell_type": "code",
   "execution_count": null,
   "metadata": {},
   "outputs": [
    {
     "name": "stdout",
     "output_type": "stream",
     "text": [
      "Pikachu\n",
      "Pikachu\n",
      "Pikachu\n",
      "Picho\n"
     ]
    }
   ],
   "source": [
    "import numpy as np\n",
    "\n",
    "# skapa en list sedan sorter listen från minsta till största sedan välja 10 närmast pukter\n",
    "def pichu_piaka(wid, hig):\n",
    "    df\n",
    "    points_distans =[(np.sqrt(np.power(df.loc[x, \"Width_cm\"]- wid, 2) + np.power(df.loc[x, \"Height_cm\"]- hig, 2))) \n",
    "                     for x in range(len(df))]\n",
    "    \n",
    "    min_value = min(points_distans)\n",
    "    index_value = points_distans.index(min_value)\n",
    "    \n",
    "    if df.loc[index_value, \"Pichu-0_pikachu-1\"] == 0:\n",
    "        return \"Picho\"\n",
    "    else:\n",
    "        return\"Pikachu\"\n",
    "    \n",
    "\n",
    "\n",
    "for x , y in zip(test_data[\"Width_cm\"], test_data[\"Height_cm\"]):\n",
    "    print(pichu_piaka(x, y))"
   ]
  },
  {
   "cell_type": "code",
   "execution_count": null,
   "metadata": {},
   "outputs": [],
   "source": [
    "distan_pichu = []\n",
    "for x in range(len(df)):\n",
    "    distan_pichu.append(np.sqrt(np.power(df.loc[x, \"Width_cm\"]- 23, 2) + np.power(df.loc[x, \"Height_cm\"]-28.3232, 2)))\n",
    "\n",
    "lis =[(np.sqrt(np.power(df.loc[x, \"Width_cm\"]- 23, 2) + np.power(df.loc[x, \"Height_cm\"]-28.3232, 2)))for x in range(len(df))]"
   ]
  },
  {
   "cell_type": "code",
   "execution_count": 19,
   "metadata": {},
   "outputs": [
    {
     "data": {
      "text/plain": [
       "['Test points:\\n',\n",
       " '1. (25, 32)\\n',\n",
       " '2. (24.2, 31.5)\\n',\n",
       " '3. (22, 34)\\n',\n",
       " '4. (20.5, 34)\\n']"
      ]
     },
     "execution_count": 19,
     "metadata": {},
     "output_type": "execute_result"
    }
   ],
   "source": [
    "lis = []\n",
    "with open(\"testpoints.txt\", \"r\") as file:\n",
    "    dd = file.readlines()\n",
    "    lis = [x for x in dd ]\n",
    "\n",
    "des = int(lis.)\n",
    "       \n"
   ]
  }
 ],
 "metadata": {
  "kernelspec": {
   "display_name": "base",
   "language": "python",
   "name": "python3"
  },
  "language_info": {
   "codemirror_mode": {
    "name": "ipython",
    "version": 3
   },
   "file_extension": ".py",
   "mimetype": "text/x-python",
   "name": "python",
   "nbconvert_exporter": "python",
   "pygments_lexer": "ipython3",
   "version": "3.11.7"
  }
 },
 "nbformat": 4,
 "nbformat_minor": 2
}
