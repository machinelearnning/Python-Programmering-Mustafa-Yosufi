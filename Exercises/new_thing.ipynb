{
 "cells": [
  {
   "cell_type": "markdown",
   "metadata": {},
   "source": [
    "How to use funktion in itself"
   ]
  },
  {
   "cell_type": "code",
   "execution_count": 254,
   "metadata": {},
   "outputs": [
    {
     "data": {
      "text/plain": [
       "5"
      ]
     },
     "execution_count": 254,
     "metadata": {},
     "output_type": "execute_result"
    }
   ],
   "source": [
    "num = \"345679873457\"\n",
    "\n",
    "def lik(x):\n",
    "    sum_num = 0\n",
    "    for i in str(x):\n",
    "        sum_num += int(i)\n",
    "    return sum_num if sum_num< 10 else lik(sum_num)\n",
    "\n",
    "lik(num)"
   ]
  },
  {
   "cell_type": "markdown",
   "metadata": {},
   "source": [
    "How to use dict as list comprehensions"
   ]
  },
  {
   "cell_type": "code",
   "execution_count": 162,
   "metadata": {},
   "outputs": [
    {
     "name": "stdout",
     "output_type": "stream",
     "text": [
      "{'Ai': 23, 'age': 34, 'adress': 'Julias'}\n",
      "{'mosse': 'son', 'sdf': 'abo', 'ali': 'nas'}\n"
     ]
    }
   ],
   "source": [
    "name = {\"sdf\", \"ali\", \"mosse\"}\n",
    "last_name = {\"son\", \"abo\", \"nas\"}\n",
    "name1 = dict(Ai = 23, age = 34, adress = \"Julias\") # det går snabbare att skriva \n",
    "\n",
    "dict_nam = {name:last_name for name, last_name in zip(name, last_name)} # first way\n",
    "dic_nam = dict(zip(name, last_name)) # second way\n",
    "print(name1)\n",
    "print(dic_nam)"
   ]
  },
  {
   "cell_type": "markdown",
   "metadata": {},
   "source": [
    "How to use join string put togather to string.\n",
    "\n",
    "we can only use them on iterable variables."
   ]
  },
  {
   "cell_type": "code",
   "execution_count": 18,
   "metadata": {},
   "outputs": [
    {
     "name": "stdout",
     "output_type": "stream",
     "text": [
      "abdfs\n",
      "a_b_d_f_s\n"
     ]
    }
   ],
   "source": [
    "name = \"aasdfdddsbbdffff\"\n",
    "print(\"\".join(sorted(set(name))))\n",
    "print(\"_\".join(sorted(set(name))))"
   ]
  },
  {
   "cell_type": "markdown",
   "metadata": {},
   "source": [
    "How to use map"
   ]
  },
  {
   "cell_type": "code",
   "execution_count": null,
   "metadata": {},
   "outputs": [],
   "source": [
    "def addition(n):\n",
    "    return n + n\n",
    "# map()- funktionen returnerar ett kartobjekt (som är en iterator)\n",
    "# We double all numbers using map()\n",
    "numbers = (1, 2, 3, 4)\n",
    "result = map(addition, numbers)\n",
    "\n",
    "result1 = map(lambda x: x + x, numbers)\n",
    "print(list(result1))"
   ]
  },
  {
   "cell_type": "markdown",
   "metadata": {},
   "source": [
    "How to use bin(), sqrt()"
   ]
  },
  {
   "cell_type": "code",
   "execution_count": 21,
   "metadata": {},
   "outputs": [
    {
     "name": "stdout",
     "output_type": "stream",
     "text": [
      "5.0\n"
     ]
    },
    {
     "data": {
      "text/plain": [
       "'0b11101001'"
      ]
     },
     "execution_count": 21,
     "metadata": {},
     "output_type": "execute_result"
    }
   ],
   "source": [
    "de = 25 ** 0.5 # rotten ur\n",
    "print(de)\n",
    "\n",
    "def num(x):\n",
    "    return int(bin(x)[2:]) # == bin(n).count(\"1\") # it finds binary number\n",
    "\n",
    "num(23)"
   ]
  },
  {
   "cell_type": "markdown",
   "metadata": {},
   "source": [
    "How to use ord() and chr()  \n",
    "\n",
    "so chr() take in a number gave you the letters and ord() does the opposit of it"
   ]
  },
  {
   "cell_type": "code",
   "execution_count": 40,
   "metadata": {},
   "outputs": [
    {
     "data": {
      "text/plain": [
       "['b', 'c']"
      ]
     },
     "execution_count": 40,
     "metadata": {},
     "output_type": "execute_result"
    }
   ],
   "source": [
    "lis = [\"a\", \"d\"] # find the missing letters between\n",
    "be = list(map(chr, range(ord(lis[0]), ord(lis[-1])+1))) # chr find the character by the number \n",
    "de = [x for x in be if x not in lis]                    # ord find the the number of character\n",
    "de"
   ]
  },
  {
   "cell_type": "markdown",
   "metadata": {},
   "source": [
    "how to find uniqe values in a list, touple or set."
   ]
  },
  {
   "cell_type": "code",
   "execution_count": 310,
   "metadata": {},
   "outputs": [
    {
     "name": "stdout",
     "output_type": "stream",
     "text": [
      "1 3 4\n"
     ]
    }
   ],
   "source": [
    "de = [3,3,1,4,1, 1, 1, 3, 3]\n",
    "a, b, c = set(de)\n",
    "print(a, b, c)"
   ]
  },
  {
   "cell_type": "markdown",
   "metadata": {},
   "source": [
    "how to convert a string touple to touple"
   ]
  },
  {
   "cell_type": "code",
   "execution_count": 98,
   "metadata": {},
   "outputs": [
    {
     "data": {
      "text/plain": [
       "(23, 34)"
      ]
     },
     "execution_count": 98,
     "metadata": {},
     "output_type": "execute_result"
    }
   ],
   "source": [
    "from ast import literal_eval\n",
    "\n",
    "num = \"(23, 34)\"\n",
    "num_new = literal_eval(num)\n",
    "num_new"
   ]
  },
  {
   "cell_type": "markdown",
   "metadata": {},
   "source": [
    "How to use with open and import re"
   ]
  },
  {
   "cell_type": "code",
   "execution_count": null,
   "metadata": {},
   "outputs": [
    {
     "data": {
      "text/plain": [
       "['(25, 32)', '(24.2, 31.5)', '(22, 34)', '(20.5, 34)']"
      ]
     },
     "execution_count": 336,
     "metadata": {},
     "output_type": "execute_result"
    }
   ],
   "source": [
    "import re\n",
    "\n",
    "te = []\n",
    "with open(\"testpoints.txt\") as file:\n",
    "    rest = r\"\\(.+, .+\\)\"\n",
    "    text = file.read()\n",
    "    for x in re.findall(rest, text):\n",
    "        te.append(x)\n",
    "te\n",
    "# funktioner som producorer \n",
    "# Vad konstanter är; det variable som värdet går inte att ändrar.\n",
    "\n",
    "lis = []\n",
    "with open(\"testpoints.txt\", \"r\") as file:\n",
    "    read = file.readlines()[1:]\n",
    "    for x in read: \n",
    "        rt = x.split(\",\")\n",
    "        x_ax = float(rt[0][4:])\n",
    "        y_ax = float(rt[1][1:-2])\n",
    "        lis.append({\"x\": x_ax, \"y\":y_ax})"
   ]
  },
  {
   "cell_type": "markdown",
   "metadata": {},
   "source": [
    "@ cache is good to use it for producors funktione that does not need to runs every time that calls"
   ]
  },
  {
   "cell_type": "code",
   "execution_count": 133,
   "metadata": {},
   "outputs": [
    {
     "data": {
      "text/plain": [
       "'your best mr:mosse'"
      ]
     },
     "execution_count": 133,
     "metadata": {},
     "output_type": "execute_result"
    }
   ],
   "source": [
    "from functools import cache\n",
    "\n",
    "@cache\n",
    "def lik():\n",
    "    return \"your best mr:\"\n",
    "\n",
    "de = lik() + \"mosse\"\n",
    "de"
   ]
  },
  {
   "cell_type": "markdown",
   "metadata": {},
   "source": [
    "how t use @dataclass decorator"
   ]
  },
  {
   "cell_type": "code",
   "execution_count": 160,
   "metadata": {},
   "outputs": [
    {
     "name": "stdout",
     "output_type": "stream",
     "text": [
      "60\n",
      "D(name='sd', last_name='sdf')\n"
     ]
    }
   ],
   "source": [
    "from dataclasses import dataclass\n",
    "from typing import ClassVar\n",
    "\n",
    "@dataclass\n",
    "class One():\n",
    "    num: int\n",
    "    nu: int\n",
    "    class_var: ClassVar[int] = 100 # skapa class variable\n",
    "\n",
    "    def lik(self):\n",
    "        return self.nu + self.num\n",
    "    \n",
    "\n",
    "na = One( 5, 5)\n",
    "n = One( 3, 3)\n",
    "print(na.lik() * n.lik())\n",
    "\n",
    "@dataclass\n",
    "class D:\n",
    "    name:str\n",
    "    last_name: str\n",
    "\n",
    "def main():\n",
    "    person = D(\"sd\", \"sdf\")\n",
    "    print(person)\n",
    "\n",
    "if __name__ == \"__main__\":\n",
    "    main()\n",
    "\n"
   ]
  },
  {
   "cell_type": "markdown",
   "metadata": {},
   "source": [
    "# how to use seed in random"
   ]
  },
  {
   "cell_type": "code",
   "execution_count": 170,
   "metadata": {},
   "outputs": [
    {
     "name": "stdout",
     "output_type": "stream",
     "text": [
      "1\n"
     ]
    }
   ],
   "source": [
    "import random as rng\n",
    "rng.seed(2) # det för att man får samma resultat i sina random värde \n",
    "num = rng.randint(1, 6)\n",
    "print(num)\n"
   ]
  },
  {
   "cell_type": "markdown",
   "metadata": {},
   "source": [
    "# How to use execel file"
   ]
  },
  {
   "cell_type": "code",
   "execution_count": null,
   "metadata": {},
   "outputs": [],
   "source": [
    "import pandas as pd\n",
    "df = pd.read_excel()\n",
    "df = pd.read_json()"
   ]
  },
  {
   "cell_type": "markdown",
   "metadata": {},
   "source": [
    "# How to build a Series \n",
    "convert to dataframe \n",
    "how to put two series in a datafram"
   ]
  },
  {
   "cell_type": "code",
   "execution_count": 384,
   "metadata": {},
   "outputs": [],
   "source": [
    "import pandas as pd\n",
    "\n",
    "num = [1, 2, 3, 4, 5]\n",
    "index_num = [\"a\", \"b\", \"c\", \"d\", \"e\"]\n",
    "\n",
    "ser = pd.Series(num, index = index_num) # you can choose the index or it vill gave index as number\n",
    "df = ser.to_frame() # converting a Series to dataframe\n",
    "\n",
    "tt = pd.Series({\"f\": 6, \"h\": 7}) # create a new Series\n",
    "df = pd.concat([df, tt.to_frame()], ignore_index= True) # put the new Series to end of dataframe \"df\"\n",
    "tf = pd.concat([df, tt.to_frame().T]) # if use Transpose it will make columns instead.\n",
    "df.T # make it to transpose\n",
    "\n",
    "name = [\"ali\", \"alex\", \"mosa\", \"saber\", \"nar\"]\n",
    "dff = pd.DataFrame({\"name\": name})\n",
    "dff[0] = df[0]\n",
    "dff = dff.reset_index(drop = True) # to reset the index of a dataframe\n"
   ]
  },
  {
   "cell_type": "markdown",
   "metadata": {},
   "source": [
    "# how to use metod in class and @statisticmetod, @classmetod"
   ]
  },
  {
   "cell_type": "code",
   "execution_count": 358,
   "metadata": {},
   "outputs": [
    {
     "name": "stdout",
     "output_type": "stream",
     "text": [
      "your age is 23 and your name is ali\n",
      "25.333333333333336\n",
      "79\n"
     ]
    }
   ],
   "source": [
    "class d:\n",
    "    age = 23 # class variable \n",
    "    name = \"ali\"\n",
    "\n",
    "    def __init__(self, num, nu):\n",
    "        self.num = num\n",
    "        self.nu = nu\n",
    "    \n",
    "    def likk(self): \n",
    "        return self.num * self.nu\n",
    "    \n",
    "    def __add__(self, xd): # method som möjlig gör att objecter kan adderas tillsammans\n",
    "        return self.likk() + xd.likk()\n",
    "\n",
    "    @classmethod\n",
    "    def lk(de): # methoden tar bara in class variablar och andvänder sig inte av self\n",
    "        return f\"your age is {de.age} and your name is {de.name}\"\n",
    "    \n",
    "    @staticmethod\n",
    "    def new(c, b): # denna methoden utgör olika typer av beräkningar \n",
    "        return 23 * 2/ 3 + c * b\n",
    "    \n",
    "one = d(23, 3)\n",
    "two = d(2, 5)\n",
    "print(d.lk())\n",
    "print(d.new(2, 5))\n",
    "print(one + two)"
   ]
  },
  {
   "cell_type": "markdown",
   "metadata": {},
   "source": [
    "#importerar dataset from seaborn\n"
   ]
  },
  {
   "cell_type": "code",
   "execution_count": null,
   "metadata": {},
   "outputs": [],
   "source": [
    "import seaborn as sns\n",
    "titanic = sns.load_dataset(\"titanic\")\n"
   ]
  },
  {
   "cell_type": "markdown",
   "metadata": {},
   "source": [
    "# How to use datatime"
   ]
  },
  {
   "cell_type": "code",
   "execution_count": 156,
   "metadata": {},
   "outputs": [
    {
     "name": "stdout",
     "output_type": "stream",
     "text": [
      "<class 'list'>\n"
     ]
    }
   ],
   "source": [
    "from datetime import datetime\n",
    "\n",
    "# strftime: datetime obj -> str\n",
    "now = datetime.now()\n",
    "day_now = now.strftime(\"%A\")\n",
    "week_now = now.strftime(\"%W\")\n",
    "month_now = now.strftime(\"%B\")\n",
    "date = now.date()\n",
    "\n",
    "# strptime: str obj -> datetime obj\n",
    "birthday = \"23/2-1997\"\n",
    "to_date = datetime.strptime(birthday, \"%d/%m-%Y\")\n",
    "\n",
    "christmas_str = \"2021-12-24\"\n",
    "christmas_date = datetime.strptime(christmas_str, \"%Y-%m-%d\")\n",
    "christmas_date.strftime(\"Week: %W, day: %a\")\n",
    "\n",
    "naem = [\"2014:2:23\", \"2024:12:23\", \"2054:1:3\", \"2034:12:3\"]\n",
    "to_dat = pd.to_datetime(naem, format= \"%Y:%m:%d\") #%H = hour, %M = minet %S = sedund\n",
    "# if you have date with dates you can use parse_dates = [0, 1, 2, , 3] = ti means which column should convert to timestamble\n",
    "# ex pd.read_csv(\"xxxxxxxxx\", parse_dates = [0, 3, 5])"
   ]
  },
  {
   "cell_type": "markdown",
   "metadata": {},
   "source": [
    "# How to scrip a dateframe from a site"
   ]
  },
  {
   "cell_type": "code",
   "execution_count": null,
   "metadata": {},
   "outputs": [],
   "source": [
    "import pandas as pd\n",
    "top_fotball_players = pd.read_html(\n",
    "    \"https://www.givemesport.com/best-football-players-in-the-world/\") # we can use match to specified the name of talble.\n",
    "top_fotball_players.__len__() # visar antal indexer\n",
    "top_fotball_players[0]"
   ]
  },
  {
   "cell_type": "code",
   "execution_count": 454,
   "metadata": {},
   "outputs": [
    {
     "data": {
      "text/html": [
       "<div>\n",
       "<style scoped>\n",
       "    .dataframe tbody tr th:only-of-type {\n",
       "        vertical-align: middle;\n",
       "    }\n",
       "\n",
       "    .dataframe tbody tr th {\n",
       "        vertical-align: top;\n",
       "    }\n",
       "\n",
       "    .dataframe thead th {\n",
       "        text-align: right;\n",
       "    }\n",
       "</style>\n",
       "<table border=\"1\" class=\"dataframe\">\n",
       "  <thead>\n",
       "    <tr style=\"text-align: right;\">\n",
       "      <th></th>\n",
       "      <th>a</th>\n",
       "      <th>s</th>\n",
       "      <th>d</th>\n",
       "      <th>f</th>\n",
       "      <th>g</th>\n",
       "    </tr>\n",
       "  </thead>\n",
       "  <tbody>\n",
       "  </tbody>\n",
       "</table>\n",
       "</div>"
      ],
      "text/plain": [
       "Empty DataFrame\n",
       "Columns: [a, s, d, f, g]\n",
       "Index: []"
      ]
     },
     "execution_count": 454,
     "metadata": {},
     "output_type": "execute_result"
    }
   ],
   "source": [
    "import numpy as np\n",
    "import pandas as pd\n",
    "\n",
    "lif = pd.DataFrame(np.arange(20).reshape(4, 5), columns= list(\"asdfg\"))\n",
    "lif1 = pd.DataFrame(np.random.randint(1, 20, 20).reshape(4, 5),columns= list(\"asdfg\"))\n",
    "to_lif = pd.concat([lif, lif1], axis= 0)\n",
    "lif.merge(lif1)\n"
   ]
  },
  {
   "cell_type": "markdown",
   "metadata": {},
   "source": [
    "# How to join two df or more by join, merge och concate"
   ]
  },
  {
   "cell_type": "code",
   "execution_count": null,
   "metadata": {},
   "outputs": [],
   "source": [
    "import pandas as pd \n",
    "import numpy as np \n",
    "\n",
    "df1 = pd.DataFrame(np.arange(16).reshape(4,4), columns=list(\"ABCD\"))\n",
    "df2 = pd.DataFrame(np.zeros((3,4)), columns=list(\"ABCD\"))\n",
    "df3 = pd.DataFrame(np.ones((4,3)), index=[1,5,10,15])\n",
    "# concat används för att ligga ihop två eller flera dataframe om de har samma indexer \n",
    "# -annars skapar den non_values\n",
    "\n",
    "below = pd.concat([df1, df2])\n",
    "next_to = pd.concat([df1, df2], axis = \"columns\")\n",
    "mix_to = pd.concat([df1, df3], axis = 1)\n",
    "\n",
    "# merge och join kan man förlura vissa värde beroende på vilka dataframe man använder\n",
    "# i merge och join så måste det finna samma samma key_värde annars blir det non_value.\n",
    "\n",
    "df2.join(df1) # här sitter de ihop för att de har samma indexer.\n",
    "\n"
   ]
  },
  {
   "cell_type": "markdown",
   "metadata": {},
   "source": [
    "# agregation och groupby"
   ]
  },
  {
   "cell_type": "code",
   "execution_count": 140,
   "metadata": {},
   "outputs": [
    {
     "name": "stdout",
     "output_type": "stream",
     "text": [
      "        survived  pclass  sex  age  sibsp  parch  fare  embarked  who  \\\n",
      "class                                                                   \n",
      "First        216     216  216  186    216    216   216       214  216   \n",
      "Second       184     184  184  173    184    184   184       184  184   \n",
      "Third        491     491  491  355    491    491   491       491  491   \n",
      "\n",
      "        adult_male  deck  embark_town  alive  alone  \n",
      "class                                                \n",
      "First          216   175          214    216    216  \n",
      "Second         184    16          184    184    184  \n",
      "Third          491    12          491    491    491  \n"
     ]
    },
    {
     "name": "stderr",
     "output_type": "stream",
     "text": [
      "C:\\Users\\musta\\AppData\\Local\\Temp\\ipykernel_16248\\368389176.py:3: FutureWarning: The default of observed=False is deprecated and will be changed to True in a future version of pandas. Pass observed=False to retain current behavior or observed=True to adopt the future default and silence this warning.\n",
      "  group_by = titanic.groupby(\"class\")[[\"age\", \"fare\"]].max()\n",
      "C:\\Users\\musta\\AppData\\Local\\Temp\\ipykernel_16248\\368389176.py:4: FutureWarning: The default of observed=False is deprecated and will be changed to True in a future version of pandas. Pass observed=False to retain current behavior or observed=True to adopt the future default and silence this warning.\n",
      "  class_gr = titanic.groupby([\"class\"]).count()\n"
     ]
    },
    {
     "data": {
      "text/html": [
       "<div>\n",
       "<style scoped>\n",
       "    .dataframe tbody tr th:only-of-type {\n",
       "        vertical-align: middle;\n",
       "    }\n",
       "\n",
       "    .dataframe tbody tr th {\n",
       "        vertical-align: top;\n",
       "    }\n",
       "\n",
       "    .dataframe thead th {\n",
       "        text-align: right;\n",
       "    }\n",
       "</style>\n",
       "<table border=\"1\" class=\"dataframe\">\n",
       "  <thead>\n",
       "    <tr style=\"text-align: right;\">\n",
       "      <th></th>\n",
       "      <th>survived</th>\n",
       "      <th>pclass</th>\n",
       "      <th>age</th>\n",
       "      <th>sibsp</th>\n",
       "      <th>parch</th>\n",
       "      <th>fare</th>\n",
       "    </tr>\n",
       "  </thead>\n",
       "  <tbody>\n",
       "    <tr>\n",
       "      <th>count</th>\n",
       "      <td>891.000000</td>\n",
       "      <td>891.000000</td>\n",
       "      <td>714.000000</td>\n",
       "      <td>891.000000</td>\n",
       "      <td>891.000000</td>\n",
       "      <td>891.000000</td>\n",
       "    </tr>\n",
       "    <tr>\n",
       "      <th>mean</th>\n",
       "      <td>0.383838</td>\n",
       "      <td>2.308642</td>\n",
       "      <td>29.699118</td>\n",
       "      <td>0.523008</td>\n",
       "      <td>0.381594</td>\n",
       "      <td>32.204208</td>\n",
       "    </tr>\n",
       "    <tr>\n",
       "      <th>median</th>\n",
       "      <td>0.000000</td>\n",
       "      <td>3.000000</td>\n",
       "      <td>28.000000</td>\n",
       "      <td>0.000000</td>\n",
       "      <td>0.000000</td>\n",
       "      <td>14.454200</td>\n",
       "    </tr>\n",
       "    <tr>\n",
       "      <th>min</th>\n",
       "      <td>0.000000</td>\n",
       "      <td>1.000000</td>\n",
       "      <td>0.420000</td>\n",
       "      <td>0.000000</td>\n",
       "      <td>0.000000</td>\n",
       "      <td>0.000000</td>\n",
       "    </tr>\n",
       "    <tr>\n",
       "      <th>max</th>\n",
       "      <td>1.000000</td>\n",
       "      <td>3.000000</td>\n",
       "      <td>80.000000</td>\n",
       "      <td>8.000000</td>\n",
       "      <td>6.000000</td>\n",
       "      <td>512.329200</td>\n",
       "    </tr>\n",
       "  </tbody>\n",
       "</table>\n",
       "</div>"
      ],
      "text/plain": [
       "          survived      pclass         age       sibsp       parch        fare\n",
       "count   891.000000  891.000000  714.000000  891.000000  891.000000  891.000000\n",
       "mean      0.383838    2.308642   29.699118    0.523008    0.381594   32.204208\n",
       "median    0.000000    3.000000   28.000000    0.000000    0.000000   14.454200\n",
       "min       0.000000    1.000000    0.420000    0.000000    0.000000    0.000000\n",
       "max       1.000000    3.000000   80.000000    8.000000    6.000000  512.329200"
      ]
     },
     "execution_count": 140,
     "metadata": {},
     "output_type": "execute_result"
    }
   ],
   "source": [
    "import seaborn as sns \n",
    "titanic = sns.load_dataset(\"titanic\")\n",
    "group_by = titanic.groupby(\"class\")[[\"age\", \"fare\"]].max()\n",
    "class_gr = titanic.groupby([\"class\"]).count()\n",
    "print(class_gr)\n",
    "# aggregation with different aggregation methods \n",
    "titanic_numeric = titanic.select_dtypes(include=\"number\")\n",
    "titanic_numeric.agg([\"count\", \"mean\", \"median\", \"min\", \"max\"])\n"
   ]
  },
  {
   "cell_type": "markdown",
   "metadata": {},
   "source": [
    "# how to use px.bar and px.line and px.pie and px.scatter(animationer)"
   ]
  },
  {
   "cell_type": "code",
   "execution_count": null,
   "metadata": {},
   "outputs": [],
   "source": [
    "import plotly_express as px\n",
    "gapminder = px.data.gapminder\n",
    "nordic =  gapminder[gapminder[\"Country\"].isin([\"Sweden\", \"Norway\"])]\n",
    "er = nordic[nordic[\"year\"] == 2007]\n",
    "\n",
    "sweden  = gapminder[gapminder[\"country\"] == \"Sweden\"]\n",
    "fig = px.bar(sweden, x = \"year\", y = \"pop\", title = f\"population in sweden {sweden[\"year\"].min()}\")"
   ]
  },
  {
   "cell_type": "markdown",
   "metadata": {},
   "source": [
    "# crosstab och pvot_tabl"
   ]
  },
  {
   "cell_type": "code",
   "execution_count": null,
   "metadata": {},
   "outputs": [],
   "source": [
    "# Korstabell : Används huvudsakligen för frekvenstabeller, idealisk för att räkna händelser \n",
    "#   -och undersöka samband mellan kategoriska variabler.\n",
    "#   syftar specifikt på en typ av tabell som visar förhållandet mellan två eller flera variabler\n",
    "\n",
    "#Pivottabell : Mer flexibel än crosstaboch kan utföra komplexa aggregationer. \n",
    "#   Du kan definiera flera aggregeringsfunktioner och det fungerar bra med numeriska data.\n",
    "#   En \"pivottabell\" är en mer allmän term som används i dataanalys för att sammanfatta data i ett tabellformat\n",
    "\n",
    "ct = pd.crosstab(titanic[\"survived\"], titanic[\"pclass\"])\n",
    "pivot = titanic.pivot_table(index=\"pclass\", columns=\"survived\", aggfunc=\"size\", fill_value=0) \n",
    "pivot.plot(kind = \"bar\", stacked= False)"
   ]
  },
  {
   "cell_type": "markdown",
   "metadata": {},
   "source": [
    "# How to use some function\n",
    "  help(), print(), map(), "
   ]
  },
  {
   "cell_type": "code",
   "execution_count": null,
   "metadata": {},
   "outputs": [],
   "source": [
    "# help() function will help you that describe how other functione work\n",
    "help(print)\n",
    "\n",
    "# map() function allows to apply a function to every single item in an iterable object.\n",
    "num = [2, 1, 3, 4, 5]\n",
    "de = map(lambda x : x *2, num)\n",
    "print(list(de))\n",
    "\n",
    "# filter() function it will take all items in the iterable object then pass it to a compatible function \n",
    "\n",
    "red = filter(lambda x : x > 2, num)\n",
    "print(list(red))\n",
    "\n",
    "# sum() function return the sum of all the different numbers from an iterable object and the values must be int or float\n",
    "print(sum(num, start = 10))\n",
    "\n",
    "# sorted() function sort an interable object in ascending or descending order depending on our demands\n",
    "lis1 = [{\"name\": \"Alic\", \"age\": 30}, {\"name\": \"divid\", \"age\": 25}]\n",
    "print(sorted(num, reverse= True)) # we can also use key argument \n",
    "print(sorted(lis1, key = lambda person: person[\"age\"])) # we sorted by saying find the person then find his age\n",
    "\n",
    "# enumerate() function will show the item and its index \n",
    "name = [\"ali\", \"mose\", \"forse\"]\n",
    "for ind, val in enumerate(name, start= 1): # den börjar från index 1 istället från noll\n",
    "    print(ind, val)\n",
    "\n",
    "print(list(enumerate(name))) # using without any loop.\n",
    "\n",
    "# zip() function uses to loop throgh coresponding values and it will go after the minmum list\n",
    "gender = [\"female\", \"male\", \"female\"]\n",
    "print(list(zip(num, name, gender)))\n"
   ]
  },
  {
   "cell_type": "markdown",
   "metadata": {},
   "source": [
    "# note\n",
    "a costom function is a fuction that we have created. a built_in function is something which is exist in python."
   ]
  },
  {
   "cell_type": "markdown",
   "metadata": {},
   "source": [
    "# iloc[] and loc[]"
   ]
  },
  {
   "cell_type": "code",
   "execution_count": null,
   "metadata": {},
   "outputs": [],
   "source": [
    "\n",
    "# iloc[] uses the position to find a value but loc[] uses the label to find the value. \n",
    "import seaborn as sns \n",
    "df = sns.load_dataset(\"titanic\")\n",
    "df.iloc[1: 3, 1: 4] # the first one is rows and the second is columns"
   ]
  },
  {
   "cell_type": "markdown",
   "metadata": {},
   "source": [
    "# use function isin()"
   ]
  },
  {
   "cell_type": "code",
   "execution_count": null,
   "metadata": {},
   "outputs": [],
   "source": [
    "# you can find some spesific value  in some columns \n",
    "df[df[\"class\"].isin([\"First\"]) & df[\"sex\"].isin([\"female\"]) & df[\"embarked\"].isin([\"C\"])]"
   ]
  },
  {
   "cell_type": "markdown",
   "metadata": {},
   "source": [
    "# to_dict()"
   ]
  },
  {
   "cell_type": "code",
   "execution_count": 149,
   "metadata": {},
   "outputs": [
    {
     "name": "stderr",
     "output_type": "stream",
     "text": [
      "C:\\Users\\musta\\AppData\\Local\\Temp\\ipykernel_16248\\3705785154.py:1: FutureWarning: The default of observed=False is deprecated and will be changed to True in a future version of pandas. Pass observed=False to retain current behavior or observed=True to adopt the future default and silence this warning.\n",
      "  re = df.groupby(\"class\").size() # shows the size of that columns\n"
     ]
    },
    {
     "data": {
      "text/plain": [
       "CategoricalIndex(['First', 'Second', 'Third'], categories=['First', 'Second', 'Third'], ordered=False, dtype='category', name='class')"
      ]
     },
     "execution_count": 149,
     "metadata": {},
     "output_type": "execute_result"
    },
    {
     "data": {
      "image/png": "[encoded data removed]",
      "text/plain": [
       "<Figure size 640x480 with 1 Axes>"
      ]
     },
     "metadata": {},
     "output_type": "display_data"
    }
   ],
   "source": [
    "re = df.groupby(\"class\").size() # shows the size of that columns\n",
    "re.plot(kind = \"pie\", autopct = \"%1.2f%%\") # den visar den procent delen\n",
    "re.to_dict() # changed to dict\n",
    "re.keys() # find the keys"
   ]
  },
  {
   "cell_type": "markdown",
   "metadata": {},
   "source": [
    "# anonymization \n",
    "encode ändrar den till byte sedan hesdigest ändrar den till siffror. \n",
    "först måste data få sträng datatypen"
   ]
  },
  {
   "cell_type": "code",
   "execution_count": 222,
   "metadata": {},
   "outputs": [],
   "source": [
    "import hashlib as hi\n",
    "df\n",
    "survived_anon = df[\"survived\"].apply(lambda x : hi.sha256(str(x).encode()).hexdigest())\n"
   ]
  },
  {
   "cell_type": "markdown",
   "metadata": {},
   "source": [
    "# crosstable and pivot table"
   ]
  },
  {
   "cell_type": "code",
   "execution_count": 201,
   "metadata": {},
   "outputs": [
    {
     "data": {
      "text/html": [
       "<div>\n",
       "<style scoped>\n",
       "    .dataframe tbody tr th:only-of-type {\n",
       "        vertical-align: middle;\n",
       "    }\n",
       "\n",
       "    .dataframe tbody tr th {\n",
       "        vertical-align: top;\n",
       "    }\n",
       "\n",
       "    .dataframe thead tr th {\n",
       "        text-align: left;\n",
       "    }\n",
       "</style>\n",
       "<table border=\"1\" class=\"dataframe\">\n",
       "  <thead>\n",
       "    <tr>\n",
       "      <th>pclass</th>\n",
       "      <th colspan=\"2\" halign=\"left\">1</th>\n",
       "      <th colspan=\"2\" halign=\"left\">2</th>\n",
       "      <th colspan=\"2\" halign=\"left\">3</th>\n",
       "      <th>All</th>\n",
       "    </tr>\n",
       "    <tr>\n",
       "      <th>sex</th>\n",
       "      <th>female</th>\n",
       "      <th>male</th>\n",
       "      <th>female</th>\n",
       "      <th>male</th>\n",
       "      <th>female</th>\n",
       "      <th>male</th>\n",
       "      <th></th>\n",
       "    </tr>\n",
       "  </thead>\n",
       "  <tbody>\n",
       "    <tr>\n",
       "      <th>alive</th>\n",
       "      <td>3</td>\n",
       "      <td>77</td>\n",
       "      <td>6</td>\n",
       "      <td>91</td>\n",
       "      <td>72</td>\n",
       "      <td>300</td>\n",
       "      <td>549</td>\n",
       "    </tr>\n",
       "    <tr>\n",
       "      <th>dead</th>\n",
       "      <td>91</td>\n",
       "      <td>45</td>\n",
       "      <td>70</td>\n",
       "      <td>17</td>\n",
       "      <td>72</td>\n",
       "      <td>47</td>\n",
       "      <td>342</td>\n",
       "    </tr>\n",
       "    <tr>\n",
       "      <th>row</th>\n",
       "      <td>94</td>\n",
       "      <td>122</td>\n",
       "      <td>76</td>\n",
       "      <td>108</td>\n",
       "      <td>144</td>\n",
       "      <td>347</td>\n",
       "      <td>891</td>\n",
       "    </tr>\n",
       "  </tbody>\n",
       "</table>\n",
       "</div>"
      ],
      "text/plain": [
       "pclass      1           2           3       All\n",
       "sex    female male female male female male     \n",
       "alive       3   77      6   91     72  300  549\n",
       "dead       91   45     70   17     72   47  342\n",
       "row        94  122     76  108    144  347  891"
      ]
     },
     "execution_count": 201,
     "metadata": {},
     "output_type": "execute_result"
    }
   ],
   "source": [
    "re = pd.crosstab(index = df[\"survived\"], columns= df[\"pclass\"], margins= True)\n",
    "re.index = [\"died\", \"survived\", \"all_row\"]\n",
    "re.columns = [\"class_1\", \"class_2\", \"class_3\", \"all_col\"]\n",
    "#re.plot(kind = \"bar\")\n",
    "\n",
    "row_procent = re/re.loc[\"all_row\"]\n",
    "col_procent = re.T/re[\"all_col\"]\n",
    "dw = pd.crosstab(index = df[\"survived\"], columns= [df[\"pclass\"], df[\"sex\"]], margins= True)\n",
    "dw.index = [\"alive\", \"dead\", \"row\"]\n",
    "dw\n",
    "\n",
    "# pivot_table \n",
    "ree = pd.pivot_table(df, index = \"survived\", columns = [\"pclass\", \"sex\"],  aggfunc= \"size\")\n"
   ]
  },
  {
   "cell_type": "markdown",
   "metadata": {},
   "source": [
    "# constant and dunder method"
   ]
  },
  {
   "cell_type": "code",
   "execution_count": 215,
   "metadata": {},
   "outputs": [
    {
     "data": {
      "text/plain": [
       "int"
      ]
     },
     "execution_count": 215,
     "metadata": {},
     "output_type": "execute_result"
    }
   ],
   "source": [
    "from typing import final\n",
    "der : str = 23\n"
   ]
  },
  {
   "cell_type": "markdown",
   "metadata": {},
   "source": [
    "# standardization adn normalization"
   ]
  },
  {
   "cell_type": "code",
   "execution_count": null,
   "metadata": {},
   "outputs": [],
   "source": [
    "from sklearn.preprocessing import StandardScaler, MinMaxScaler\n",
    "# Examples of machine learning algorithms that require gradient calculation are: linear/logistic regression\n",
    "# -and artificial neural netwoks\n",
    "\n",
    "# scaling is not required for distance_based and tree_based algorithms such as K-means Clustering, \n",
    "# -support vector machines and K nearest neighbors, decision trees, random forest, and xg_boost.\n",
    "\n",
    "# in case of neural networks, normalization is preferred since we dont assume any data distribution.\n",
    "\n",
    "# Standardization is prefrered over normalization when there are a lot of outliers.\n",
    "# Standardization is preferred over normalization when there are a lot of outliers\n",
    "\n",
    "scale = StandardScaler()\n",
    "num = df.select_dtypes(include= \"number\")\n",
    "x1 = scale.fit_transform(num)\n",
    "x1 = pd.DataFrame(x1, columns=['survived', 'pclass', 'age', 'sibsp', 'parch', 'fare'])\n",
    "\n",
    "min_scale = MinMaxScaler(feature_range= (0, 1))\n",
    "x2 = min_scale.fit_transform(num)\n",
    "x2 = pd.DataFrame(x2, columns=['survived', 'pclass', 'age', 'sibsp', 'parch', 'fare'])\n",
    "x1.describe()"
   ]
  },
  {
   "cell_type": "markdown",
   "metadata": {},
   "source": [
    "# GDPR\n",
    "erupisk lagstifning \n"
   ]
  },
  {
   "cell_type": "markdown",
   "metadata": {},
   "source": [
    "# what is gardient calculation "
   ]
  },
  {
   "cell_type": "markdown",
   "metadata": {},
   "source": [
    "# how to use apply\n",
    "the apply let you run the function on all elements in a dataframe or series"
   ]
  },
  {
   "cell_type": "code",
   "execution_count": 4,
   "metadata": {},
   "outputs": [
    {
     "name": "stdout",
     "output_type": "stream",
     "text": [
      "survived                 0\n",
      "pclass                   3\n",
      "sex                   male\n",
      "age                   24.0\n",
      "sibsp                    0\n",
      "parch                    0\n",
      "fare                  8.05\n",
      "embarked                 S\n",
      "class                Third\n",
      "who                    man\n",
      "adult_male            True\n",
      "deck                   NaN\n",
      "embark_town    Southampton\n",
      "alive                   no\n",
      "alone                 True\n",
      "dtype: object\n"
     ]
    }
   ],
   "source": [
    "from statistics import mode\n",
    "import seaborn as sns\n",
    "trt = sns.load_dataset(\"titanic\")\n",
    "def kk(x, b): \n",
    "    if x > 20:\n",
    "        return 20/b\n",
    "    else:\n",
    "        return 10/b\n",
    "    \n",
    "def mo(x): \n",
    "    return mode(x)\n",
    "\n",
    "de = trt.apply(mo, axis= 0) # it will show the most commen values in each column.\n",
    "print(de)\n",
    "\n",
    "trt[\"age\"] = trt[\"age\"].apply(kk, args= [2]) # args is for extra argument in function\n",
    "\n",
    "\n"
   ]
  },
  {
   "cell_type": "code",
   "execution_count": null,
   "metadata": {},
   "outputs": [],
   "source": []
  },
  {
   "cell_type": "markdown",
   "metadata": {},
   "source": [
    "# regexception"
   ]
  },
  {
   "cell_type": "code",
   "execution_count": 557,
   "metadata": {},
   "outputs": [
    {
     "name": "stdout",
     "output_type": "stream",
     "text": [
      "This is not a number\n"
     ]
    },
    {
     "ename": "TypeError",
     "evalue": "this not int",
     "output_type": "error",
     "traceback": [
      "\u001b[1;31m---------------------------------------------------------------------------\u001b[0m",
      "\u001b[1;31mTypeError\u001b[0m                                 Traceback (most recent call last)",
      "Cell \u001b[1;32mIn[557], line 14\u001b[0m\n\u001b[0;32m     11\u001b[0m     \u001b[38;5;28mprint\u001b[39m(\u001b[38;5;124m\"\u001b[39m\u001b[38;5;124mThis is not a number\u001b[39m\u001b[38;5;124m\"\u001b[39m)\n\u001b[0;32m     13\u001b[0m \u001b[38;5;28;01mif\u001b[39;00m \u001b[38;5;129;01mnot\u001b[39;00m \u001b[38;5;28mtype\u001b[39m(num) \u001b[38;5;129;01mis\u001b[39;00m \u001b[38;5;28mint\u001b[39m: \n\u001b[1;32m---> 14\u001b[0m     \u001b[38;5;28;01mraise\u001b[39;00m \u001b[38;5;167;01mTypeError\u001b[39;00m(\u001b[38;5;124m\"\u001b[39m\u001b[38;5;124mthis not int\u001b[39m\u001b[38;5;124m\"\u001b[39m)\n",
      "\u001b[1;31mTypeError\u001b[0m: this not int"
     ]
    }
   ],
   "source": [
    "num = \"sdf\"\n",
    "try:\n",
    "    if num >= 10: \n",
    "        print(\"greater than 10\")\n",
    "    try:\n",
    "        if num < 3: \n",
    "             print(\"this is biger than 3\")\n",
    "    except:\n",
    "         print(\"greater than 3\")\n",
    "except:\n",
    "    print(\"This is not a number\")\n",
    "\n",
    "if not type(num) is int: \n",
    "    raise TypeError(\"this not int\")\n",
    "\n",
    "\n"
   ]
  },
  {
   "cell_type": "markdown",
   "metadata": {},
   "source": [
    "# seaborn lineplot"
   ]
  },
  {
   "cell_type": "code",
   "execution_count": 1,
   "metadata": {},
   "outputs": [
    {
     "data": {
      "text/plain": [
       "<Response [200]>"
      ]
     },
     "execution_count": 1,
     "metadata": {},
     "output_type": "execute_result"
    }
   ],
   "source": [
    "import requests\n",
    "from dotenv import load_dotenv\n",
    "import os \n",
    "result = requests.get(\"http://www.sunet.se\")\n",
    "\n",
    "load_dotenv()\n",
    "symbols = [\"AAPL\", \"NVDA\", \"TELA\", \"IGN\"]\n",
    "api_key = os.getenv(\"ALPHA_API_KEY\")\n",
    "functoin = \"TIME_SERIES_INTRADAY\" # man vilja olika tid serier som en timmen eller en veckas serier.\n",
    "\n",
    "for i in symbols:\n",
    "    url = f\"https://alphavantage.co/qurey?function=\"\n",
    "    data = requests.get(url)\n",
    "    print(data.text)\n",
    "# post och put används för att skicka "
   ]
  },
  {
   "cell_type": "code",
   "execution_count": 3,
   "metadata": {},
   "outputs": [
    {
     "ename": "ModuleNotFoundError",
     "evalue": "No module named 'dash'",
     "output_type": "error",
     "traceback": [
      "\u001b[1;31m---------------------------------------------------------------------------\u001b[0m",
      "\u001b[1;31mModuleNotFoundError\u001b[0m                       Traceback (most recent call last)",
      "Cell \u001b[1;32mIn[3], line 3\u001b[0m\n\u001b[0;32m      1\u001b[0m \u001b[38;5;28;01mimport\u001b[39;00m \u001b[38;5;21;01mos\u001b[39;00m \n\u001b[0;32m      2\u001b[0m \u001b[38;5;66;03m#from load_data import StackDataAPI\u001b[39;00m\n\u001b[1;32m----> 3\u001b[0m \u001b[38;5;28;01mimport\u001b[39;00m \u001b[38;5;21;01mdash\u001b[39;00m\n\u001b[0;32m      4\u001b[0m \u001b[38;5;28;01mfrom\u001b[39;00m \u001b[38;5;21;01mdash\u001b[39;00m \u001b[38;5;28;01mimport\u001b[39;00m html\n",
      "\u001b[1;31mModuleNotFoundError\u001b[0m: No module named 'dash'"
     ]
    }
   ],
   "source": [
    "import os \n",
    "#from load_data import StackDataAPI\n",
    "import dash\n",
    "from dash import html\n",
    "\n",
    "api_key = os.getenv(\"ALPHA_API_KEY\")\n",
    "stock_data = StockDataAPI(api_key)\n",
    "\n",
    "stock_dict = {\"AAPL\": \"Apple\", \"NVDA\": \"Nvidia\"}\n",
    "stock_option = [{\"label\": name, \"value\": symbol}, for symbol , name in stock_dict.items()}]\n",
    "app = dash.Dash(__name__)"
   ]
  },
  {
   "cell_type": "code",
   "execution_count": 33,
   "metadata": {},
   "outputs": [
    {
     "name": "stdout",
     "output_type": "stream",
     "text": [
      "{'Information': 'Thank you for using Alpha Vantage! Our standard API rate limit is 25 requests per day. Please subscribe to any of the premium plans at https://www.alphavantage.co/premium/ to instantly remove all daily rate limits.'}\n",
      "{'Information': 'Thank you for using Alpha Vantage! Our standard API rate limit is 25 requests per day. Please subscribe to any of the premium plans at https://www.alphavantage.co/premium/ to instantly remove all daily rate limits.'}\n",
      "{'Information': 'Thank you for using Alpha Vantage! Our standard API rate limit is 25 requests per day. Please subscribe to any of the premium plans at https://www.alphavantage.co/premium/ to instantly remove all daily rate limits.'}\n",
      "{'Information': 'Thank you for using Alpha Vantage! Our standard API rate limit is 25 requests per day. Please subscribe to any of the premium plans at https://www.alphavantage.co/premium/ to instantly remove all daily rate limits.'}\n"
     ]
    }
   ],
   "source": [
    "import os\n",
    "from dotenv import load_dotenv\n",
    "import requests\n",
    "import pandas as pd\n",
    "\n",
    "load_dotenv()\n",
    "api_key = os.getenv(\"ATNHEYJ8W1XS9IAY\")\n",
    "# NOTE: you can print it for your own validation, but remove the print before pushing to Github\n",
    "\n",
    "symbols = [\"AAPL\", \"NVDA\", \"TSLA\", \"IBM\"]\n",
    "stock_list = []\n",
    "\n",
    "for symbol in symbols:\n",
    "    function = \"TIME_SERIES_INTRADAY\"\n",
    "\n",
    "    url = f'https://www.alphavantage.co/query?function={function}&symbol={symbol}&interval=5min&apikey={api_key}'\n",
    "    #url = f'https://www.alphavantage.co/query?function={function}&symbol={symbol}&apikey={api_key}'\n",
    "    data = requests.get(url).json()\n",
    "    df = pd.DataFrame(data[\"Time Series (5min)\"]).transpose()\n",
    "    df = df[\"4. close\"].rename(symbol).astype(float)\n",
    "    stock_list.append(df)"
   ]
  },
  {
   "cell_type": "code",
   "execution_count": null,
   "metadata": {},
   "outputs": [],
   "source": [
    "# is your API key: ATNHEYJ8W1XS9IAY"
   ]
  },
  {
   "cell_type": "code",
   "execution_count": null,
   "metadata": {},
   "outputs": [],
   "source": [
    "import pandas as pd \n",
    "from dash import dash, dcc, html\n",
    "app = dash.Dash()\n",
    "\n",
    "app.layout = html.Div([\n",
    "    html.H1(\"Hello world\"), \n",
    "    html.Div(\"Dash - A Data product development from plotly\"),\n",
    "    dcc.Graph(\n",
    "        id = 'sample-graph',\n",
    "        figure ={\n",
    "            \"data\": [{\"x\": [5, 6, 7], \"y\": [12, 13, 15 ], \"type\": \"bar\", \"name\": \"SF\"}\n",
    "            ], 'layout': {\n",
    "                \"title\" : \"simple bar char\"\n",
    "            }\n",
    "        }  \n",
    "    )\n",
    "    ])\n",
    "\n",
    "if __name__ == '__main__':\n",
    "    app.run_server(port = 4050) \n",
    "\n",
    "\n",
    "#These lines make it possible to run your Dash application locally using Flask’s built-in server.\n",
    "#  The debug=True parameter enables the hot-reloading option in your application. \n",
    "# This means that when you make a change to your app, it reloads automatically, \n",
    "# without you having to restart the server."
   ]
  },
  {
   "cell_type": "code",
   "execution_count": null,
   "metadata": {},
   "outputs": [],
   "source": [
    "if __name__ == '__main__':\n",
    "    app.run_server(port = 4050) "
   ]
  },
  {
   "cell_type": "code",
   "execution_count": null,
   "metadata": {},
   "outputs": [
    {
     "data": {
      "text/html": [
       "<div>\n",
       "<style scoped>\n",
       "    .dataframe tbody tr th:only-of-type {\n",
       "        vertical-align: middle;\n",
       "    }\n",
       "\n",
       "    .dataframe tbody tr th {\n",
       "        vertical-align: top;\n",
       "    }\n",
       "\n",
       "    .dataframe thead th {\n",
       "        text-align: right;\n",
       "    }\n",
       "</style>\n",
       "<table border=\"1\" class=\"dataframe\">\n",
       "  <thead>\n",
       "    <tr style=\"text-align: right;\">\n",
       "      <th></th>\n",
       "      <th>Unnamed: 0</th>\n",
       "      <th>Date</th>\n",
       "      <th>AveragePrice</th>\n",
       "      <th>Total Volume</th>\n",
       "      <th>4046</th>\n",
       "      <th>4225</th>\n",
       "      <th>4770</th>\n",
       "      <th>Total Bags</th>\n",
       "      <th>Small Bags</th>\n",
       "      <th>Large Bags</th>\n",
       "      <th>XLarge Bags</th>\n",
       "      <th>type</th>\n",
       "      <th>year</th>\n",
       "      <th>region</th>\n",
       "    </tr>\n",
       "  </thead>\n",
       "  <tbody>\n",
       "    <tr>\n",
       "      <th>51</th>\n",
       "      <td>51</td>\n",
       "      <td>2015-01-04</td>\n",
       "      <td>1.22</td>\n",
       "      <td>40873.28</td>\n",
       "      <td>2819.50</td>\n",
       "      <td>28287.42</td>\n",
       "      <td>49.90</td>\n",
       "      <td>9716.46</td>\n",
       "      <td>9186.93</td>\n",
       "      <td>529.53</td>\n",
       "      <td>0.00</td>\n",
       "      <td>conventional</td>\n",
       "      <td>2015</td>\n",
       "      <td>Albany</td>\n",
       "    </tr>\n",
       "    <tr>\n",
       "      <th>50</th>\n",
       "      <td>50</td>\n",
       "      <td>2015-01-11</td>\n",
       "      <td>1.24</td>\n",
       "      <td>41195.08</td>\n",
       "      <td>1002.85</td>\n",
       "      <td>31640.34</td>\n",
       "      <td>127.12</td>\n",
       "      <td>8424.77</td>\n",
       "      <td>8036.04</td>\n",
       "      <td>388.73</td>\n",
       "      <td>0.00</td>\n",
       "      <td>conventional</td>\n",
       "      <td>2015</td>\n",
       "      <td>Albany</td>\n",
       "    </tr>\n",
       "    <tr>\n",
       "      <th>49</th>\n",
       "      <td>49</td>\n",
       "      <td>2015-01-18</td>\n",
       "      <td>1.17</td>\n",
       "      <td>44511.28</td>\n",
       "      <td>914.14</td>\n",
       "      <td>31540.32</td>\n",
       "      <td>135.77</td>\n",
       "      <td>11921.05</td>\n",
       "      <td>11651.09</td>\n",
       "      <td>269.96</td>\n",
       "      <td>0.00</td>\n",
       "      <td>conventional</td>\n",
       "      <td>2015</td>\n",
       "      <td>Albany</td>\n",
       "    </tr>\n",
       "    <tr>\n",
       "      <th>48</th>\n",
       "      <td>48</td>\n",
       "      <td>2015-01-25</td>\n",
       "      <td>1.06</td>\n",
       "      <td>45147.50</td>\n",
       "      <td>941.38</td>\n",
       "      <td>33196.16</td>\n",
       "      <td>164.14</td>\n",
       "      <td>10845.82</td>\n",
       "      <td>10103.35</td>\n",
       "      <td>742.47</td>\n",
       "      <td>0.00</td>\n",
       "      <td>conventional</td>\n",
       "      <td>2015</td>\n",
       "      <td>Albany</td>\n",
       "    </tr>\n",
       "    <tr>\n",
       "      <th>47</th>\n",
       "      <td>47</td>\n",
       "      <td>2015-02-01</td>\n",
       "      <td>0.99</td>\n",
       "      <td>70873.60</td>\n",
       "      <td>1353.90</td>\n",
       "      <td>60017.20</td>\n",
       "      <td>179.32</td>\n",
       "      <td>9323.18</td>\n",
       "      <td>9170.82</td>\n",
       "      <td>152.36</td>\n",
       "      <td>0.00</td>\n",
       "      <td>conventional</td>\n",
       "      <td>2015</td>\n",
       "      <td>Albany</td>\n",
       "    </tr>\n",
       "    <tr>\n",
       "      <th>...</th>\n",
       "      <td>...</td>\n",
       "      <td>...</td>\n",
       "      <td>...</td>\n",
       "      <td>...</td>\n",
       "      <td>...</td>\n",
       "      <td>...</td>\n",
       "      <td>...</td>\n",
       "      <td>...</td>\n",
       "      <td>...</td>\n",
       "      <td>...</td>\n",
       "      <td>...</td>\n",
       "      <td>...</td>\n",
       "      <td>...</td>\n",
       "      <td>...</td>\n",
       "    </tr>\n",
       "    <tr>\n",
       "      <th>8482</th>\n",
       "      <td>4</td>\n",
       "      <td>2018-02-25</td>\n",
       "      <td>1.28</td>\n",
       "      <td>104278.89</td>\n",
       "      <td>10368.77</td>\n",
       "      <td>59723.32</td>\n",
       "      <td>48.00</td>\n",
       "      <td>34138.80</td>\n",
       "      <td>30126.31</td>\n",
       "      <td>3702.49</td>\n",
       "      <td>310.00</td>\n",
       "      <td>conventional</td>\n",
       "      <td>2018</td>\n",
       "      <td>Albany</td>\n",
       "    </tr>\n",
       "    <tr>\n",
       "      <th>8481</th>\n",
       "      <td>3</td>\n",
       "      <td>2018-03-04</td>\n",
       "      <td>1.08</td>\n",
       "      <td>139520.60</td>\n",
       "      <td>12002.12</td>\n",
       "      <td>105069.57</td>\n",
       "      <td>95.62</td>\n",
       "      <td>22353.29</td>\n",
       "      <td>16128.51</td>\n",
       "      <td>5941.45</td>\n",
       "      <td>283.33</td>\n",
       "      <td>conventional</td>\n",
       "      <td>2018</td>\n",
       "      <td>Albany</td>\n",
       "    </tr>\n",
       "    <tr>\n",
       "      <th>8480</th>\n",
       "      <td>2</td>\n",
       "      <td>2018-03-11</td>\n",
       "      <td>1.12</td>\n",
       "      <td>144648.75</td>\n",
       "      <td>15823.35</td>\n",
       "      <td>110950.68</td>\n",
       "      <td>70.00</td>\n",
       "      <td>17804.72</td>\n",
       "      <td>14480.52</td>\n",
       "      <td>3033.09</td>\n",
       "      <td>291.11</td>\n",
       "      <td>conventional</td>\n",
       "      <td>2018</td>\n",
       "      <td>Albany</td>\n",
       "    </tr>\n",
       "    <tr>\n",
       "      <th>8479</th>\n",
       "      <td>1</td>\n",
       "      <td>2018-03-18</td>\n",
       "      <td>1.35</td>\n",
       "      <td>105304.65</td>\n",
       "      <td>13234.86</td>\n",
       "      <td>61037.58</td>\n",
       "      <td>55.00</td>\n",
       "      <td>30977.21</td>\n",
       "      <td>26755.90</td>\n",
       "      <td>3721.31</td>\n",
       "      <td>500.00</td>\n",
       "      <td>conventional</td>\n",
       "      <td>2018</td>\n",
       "      <td>Albany</td>\n",
       "    </tr>\n",
       "    <tr>\n",
       "      <th>8478</th>\n",
       "      <td>0</td>\n",
       "      <td>2018-03-25</td>\n",
       "      <td>1.57</td>\n",
       "      <td>149396.50</td>\n",
       "      <td>16361.69</td>\n",
       "      <td>109045.03</td>\n",
       "      <td>65.45</td>\n",
       "      <td>23924.33</td>\n",
       "      <td>19273.80</td>\n",
       "      <td>4270.53</td>\n",
       "      <td>380.00</td>\n",
       "      <td>conventional</td>\n",
       "      <td>2018</td>\n",
       "      <td>Albany</td>\n",
       "    </tr>\n",
       "  </tbody>\n",
       "</table>\n",
       "<p>169 rows × 14 columns</p>\n",
       "</div>"
      ],
      "text/plain": [
       "      Unnamed: 0       Date  AveragePrice  Total Volume      4046       4225  \\\n",
       "51            51 2015-01-04          1.22      40873.28   2819.50   28287.42   \n",
       "50            50 2015-01-11          1.24      41195.08   1002.85   31640.34   \n",
       "49            49 2015-01-18          1.17      44511.28    914.14   31540.32   \n",
       "48            48 2015-01-25          1.06      45147.50    941.38   33196.16   \n",
       "47            47 2015-02-01          0.99      70873.60   1353.90   60017.20   \n",
       "...          ...        ...           ...           ...       ...        ...   \n",
       "8482           4 2018-02-25          1.28     104278.89  10368.77   59723.32   \n",
       "8481           3 2018-03-04          1.08     139520.60  12002.12  105069.57   \n",
       "8480           2 2018-03-11          1.12     144648.75  15823.35  110950.68   \n",
       "8479           1 2018-03-18          1.35     105304.65  13234.86   61037.58   \n",
       "8478           0 2018-03-25          1.57     149396.50  16361.69  109045.03   \n",
       "\n",
       "        4770  Total Bags  Small Bags  Large Bags  XLarge Bags          type  \\\n",
       "51     49.90     9716.46     9186.93      529.53         0.00  conventional   \n",
       "50    127.12     8424.77     8036.04      388.73         0.00  conventional   \n",
       "49    135.77    11921.05    11651.09      269.96         0.00  conventional   \n",
       "48    164.14    10845.82    10103.35      742.47         0.00  conventional   \n",
       "47    179.32     9323.18     9170.82      152.36         0.00  conventional   \n",
       "...      ...         ...         ...         ...          ...           ...   \n",
       "8482   48.00    34138.80    30126.31     3702.49       310.00  conventional   \n",
       "8481   95.62    22353.29    16128.51     5941.45       283.33  conventional   \n",
       "8480   70.00    17804.72    14480.52     3033.09       291.11  conventional   \n",
       "8479   55.00    30977.21    26755.90     3721.31       500.00  conventional   \n",
       "8478   65.45    23924.33    19273.80     4270.53       380.00  conventional   \n",
       "\n",
       "      year  region  \n",
       "51    2015  Albany  \n",
       "50    2015  Albany  \n",
       "49    2015  Albany  \n",
       "48    2015  Albany  \n",
       "47    2015  Albany  \n",
       "...    ...     ...  \n",
       "8482  2018  Albany  \n",
       "8481  2018  Albany  \n",
       "8480  2018  Albany  \n",
       "8479  2018  Albany  \n",
       "8478  2018  Albany  \n",
       "\n",
       "[169 rows x 14 columns]"
      ]
     },
     "execution_count": 45,
     "metadata": {},
     "output_type": "execute_result"
    }
   ],
   "source": [
    "import pandas as pd \n",
    "from dash import Dash, dcc, html\n",
    "\n",
    "data = (\n",
    "    pd.read_csv(\"avocado.csv\")\n",
    "    .query(\"type == 'conventional' and region == 'Albany'\") # vad den har för typ och vilken religion den tillhör\n",
    "    .assign(Date=lambda data: pd.to_datetime(data[\"Date\"], format=\"%Y-%m-%d\"))\n",
    "    .sort_values(by=\"Date\")\n",
    ")\n",
    "\n",
    "app = Dash(__name__) \n",
    "\n",
    "app.layout == html.Div(children=[html.H1(children= \"avocado\"), html.P\n",
    "                                 (children=(\"Analyze the behavior of avocado prices and the number\"\n",
    "                                             \" of avocados sold in the US between 2015 and 2018\")),])\n"
   ]
  }
 ],
 "metadata": {
  "kernelspec": {
   "display_name": "base",
   "language": "python",
   "name": "python3"
  },
  "language_info": {
   "codemirror_mode": {
    "name": "ipython",
    "version": 3
   },
   "file_extension": ".py",
   "mimetype": "text/x-python",
   "name": "python",
   "nbconvert_exporter": "python",
   "pygments_lexer": "ipython3",
   "version": "3.11.7"
  }
 },
 "nbformat": 4,
 "nbformat_minor": 2
}
