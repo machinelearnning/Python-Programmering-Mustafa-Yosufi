{
 "cells": [
  {
   "cell_type": "markdown",
   "metadata": {},
   "source": [
    "object oriantering\n",
    "debaging\n",
    "function test\n",
    "\n",
    "@staticmethod\n",
    "__name__\n"
   ]
  }
 ],
 "metadata": {
  "language_info": {
   "name": "python"
  }
 },
 "nbformat": 4,
 "nbformat_minor": 2
}
