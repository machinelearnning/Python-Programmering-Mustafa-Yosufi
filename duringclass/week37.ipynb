# cheek the vedie at home week 38
# en av grunderna i matematik är mängd
