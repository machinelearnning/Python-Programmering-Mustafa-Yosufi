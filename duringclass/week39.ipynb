{
 "cells": [
  {
   "cell_type": "code",
   "execution_count": null,
   "metadata": {},
   "outputs": [],
   "source": [
    "Path  = \"../Data/qoutes.txt\"\n",
    "\n",
    "with open(Path, \"r\"):"
   ]
  },
  {
   "cell_type": "code",
   "execution_count": null,
   "metadata": {},
   "outputs": [],
   "source": [
    "# parsing\n",
    "import re\n",
    "quotes, i = [], 1\n",
    "with open(Path, \"r\")as f_read, open(\"../Data/qoutes.txt\") as f_write:\n",
    "    f_write.write(\"Famous quotes\\n\\n\")\n",
    "    for quote in f_read:\n",
    "        quote = quote.strip([' \\n'])\n",
    "        quote = re.sub(r\" +\", \" \", quote)# substitute >1 whitespace with single whitespace\n",
    "\n",
    "    if quote != \"\":\n",
    "        f_write.write(f\"{i}\")"
   ]
  },
  {
   "cell_type": "code",
   "execution_count": null,
   "metadata": {},
   "outputs": [],
   "source": [
    "with open(\"../Data/qoutes_cleanded.txt\", \"r\") as f_read, open(\"../Data/qoutes_cleanded.txt\", \"a\") as re:\n",
    "    quotes= [quote.strip(\"\\n\") for quote in f_read.readlines() if quote[0].isdigit()]\n",
    "    authors = [quote.split() [-2] for quote in quotes]\n",
    "    authors = set([\" \".join(author) for author in authors])\n",
    "    print(authors)\n",
    "\n",
    "f_append.write(\"\\nAuthors:\")\n",
    "for author in authors:\n",
    "    f_append.write(f\"{author},\")"
   ]
  },
  {
   "cell_type": "markdown",
   "metadata": {},
   "source": [
    "# Math\n",
    "# Polynom\n",
    "\n",
    "P[x] = kx^1 + m              grad 1\n",
    "ex p = x + 1, x , 2x + 9\n",
    "\n",
    "p[x] = ax^2 + bx + c         grad 2\n",
    "ex   x^2-2x+1, x^2 \n",
    "\n",
    "p[x] = ax^3 + bx^2 + dx + e  grad 3\n",
    "\n",
    "# I datorn så kan vi reperesenter polynom som vektorer(listor).\n",
    "ex: [a^2, 2v^3] = \n",
    "\n",
    "# kvadrering\n",
    "(x + y)^2 = x^2 + 2xy + y^2\n",
    "(x + y)^2 = x^2 - 2xy + y^2\n",
    "(x + y)(x - y) = x^2 + Y^2\n",
    "\n",
    "# Faktorisering \n",
    "ax^2 + bx + c = 0\n",
    "x^2 - 2x + 1 = 0\n",
    "x = 1 +- rooten ur 4\n",
    "\n",
    "# Vi använder polynom till linjär ekvationssystem \n",
    "en rak linjär ekvation  =  kx + m\n",
    "två linj ex: 2x + 1 = y\n",
    "             -x = 1 = y var de skär någontstans\n",
    "\n",
    "# substitution\n",
    "\n",
    "2x + 1 = -x + 1\n",
    "=> 3x = 0\n",
    "\n",
    "# radoperation (additon)\n",
    "     2x + 1 = y\n",
    "-1 *(-x + 1 = y)\n",
    "=> 2x + 1 -(-x + 1) = y-y\n",
    "\n",
    "# potenser och logritmer\n",
    "10^3 = 10: bas och 3: exponenten \n",
    "naturliga lagoritmer ln e = 1\n",
    "ln x^a = a * lnx\n",
    "ln e = 1\n",
    "ln e^a = a * lne = a\n",
    "e^lna = a = lne^a\n",
    "ln (x*y) = ln x + lny  (e^a * e^a = e^a+b)\n",
    "ln(x/y) = lnx - lny    ln(1/x) = -x\n",
    "\n",
    "\n",
    "# bevisföring\n",
    "logisk resonemang som leder till en viss slutsats\n",
    "ex: pythagoras sats\n",
    "(a + b)^2 = 2ab + c^2\n",
    "a^2 + b^2 = c^2\n",
    "\n",
    "en sekvens av operationer som leder till ett visst sluttillstånf.\n",
    "algoritm = bevis = program = när vi gör ett program gör man ett matematisk bevis.\n",
    "\n"
   ]
  },
  {
   "cell_type": "markdown",
   "metadata": {},
   "source": [
    "# linjär ekvations system \n",
    "Det finns tre lösningar \n",
    "* ingen lösning\n",
    "* entyding lösning\n",
    "* oändlig många lösningar"
   ]
  }
 ],
 "metadata": {
  "kernelspec": {
   "display_name": "base",
   "language": "python",
   "name": "python3"
  },
  "language_info": {
   "name": "python",
   "version": "3.11.7"
  }
 },
 "nbformat": 4,
 "nbformat_minor": 2
}
