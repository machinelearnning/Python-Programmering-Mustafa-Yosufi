{
 "cells": [
  {
   "cell_type": "code",
   "execution_count": 1,
   "metadata": {},
   "outputs": [
    {
     "name": "stdout",
     "output_type": "stream",
     "text": [
      "9\n"
     ]
    }
   ],
   "source": [
    "#annonym funktion och det är långsamt i pyhton. \n",
    "#funktion i funktion\n",
    "\n",
    "def n_powe(n):\n",
    "    return lambda x : x **n \n",
    "\n",
    "de = n_powe(2)\n",
    "print(de(3))"
   ]
  },
  {
   "cell_type": "code",
   "execution_count": null,
   "metadata": {},
   "outputs": [],
   "source": [
    "# Big ideas in programming\n",
    "# Logical thinking\n",
    "# formal languaage and syntax\n",
    "\n",
    "#  Vad består av en programm\n",
    "#  variables, and constants\n",
    "#  parameters\n",
    "# flow control( name man exukuerar)\n",
    "# function, proces ( när man kör en run är en process), method ( har alltid self som referar till något)\n",
    "# Algorithm \n",
    "# data strukturer\n",
    "# Composition / Decomposition\n",
    "# Reusability: klippa och klistrar cod( dont repeat yourself)\n"
   ]
  },
  {
   "cell_type": "code",
   "execution_count": null,
   "metadata": {},
   "outputs": [],
   "source": [
    "# varje del i en demention kallas för sensorer"
   ]
  },
  {
   "cell_type": "markdown",
   "metadata": {},
   "source": [
    "* 20/9\n",
    "* exception \n",
    "* logical errors\n",
    "      import numpy as np\n",
    "* exception error\n",
    "      lis[10] from lis = [1, 2, 3, 4]\n",
    "* how to use:\n",
    "    try: \n",
    "        write the code\n",
    "        if not\n",
    "             raise ValueError(xxxxx)\n",
    "        print():\n",
    "    except ValueError as err:\n",
    "        print(err)\n",
    "# man ska inte faktiskt använda exception om det inte är en avancerade program\n",
    "* ex2\n",
    "    while  = True:\n",
    "         try:\n",
    "             write code\n",
    "             if not\n",
    "                 raise ValueError(xxx)\n",
    "            print()\n",
    "            break\n",
    "\n",
    "* funktion \n",
    "def name(name = \"Friend\"):\n",
    "    return name\n",
    "\n",
    "print(name(alex)), alex\n",
    "print(name()), friend\n",
    "\n",
    "* rita circle\n",
    "   plt.plot(radius*np.sin[x]+center[0], radius*np.cos[x]+center[1])\n",
    "   plt.plot\n",
    "\n",
    "* how to use lambda\n",
    "   rea = lambda x = x ** 2\n",
    "   print(rea(3))\n",
    "\n",
    "   lamb"
   ]
  }
 ],
 "metadata": {
  "kernelspec": {
   "display_name": "base",
   "language": "python",
   "name": "python3"
  },
  "language_info": {
   "codemirror_mode": {
    "name": "ipython",
    "version": 3
   },
   "file_extension": ".py",
   "mimetype": "text/x-python",
   "name": "python",
   "nbconvert_exporter": "python",
   "pygments_lexer": "ipython3",
   "version": "3.11.7"
  }
 },
 "nbformat": 4,
 "nbformat_minor": 2
}
