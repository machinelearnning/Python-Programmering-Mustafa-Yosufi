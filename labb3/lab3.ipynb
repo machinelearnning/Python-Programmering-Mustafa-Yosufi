{
 "cells": [
  {
   "cell_type": "code",
   "execution_count": null,
   "metadata": {},
   "outputs": [],
   "source": [
    "import pandas as pd \n",
    "import matplotlib.pyplot as plt\n",
    "import numpy as np\n",
    "\n",
    "df = pd.read_csv(\"unlabelled_data.csv\")\n",
    "df.columns = df.columns.str.replace(\"-1.885907518189583\", \"x_points\").str.replace(\"-1.997407599218205\", \"y_points\")\n",
    "\n",
    "# Hittar pounkter genom ligga x punkter i ekvationer\n",
    "c, f = [-5, 5], [4.89, -4.89]  # f(x) = −0.489x\n",
    "d, s = [-2, 2], [4.16, -3.84]  # g(x) = −2x + 0.16\n",
    "r, v = [0.155, 0.145], [4, -4] # h(x) = 800x − 120\n",
    "\n",
    "plt.scatter(df[\"x_points\"], df[\"y_points\"])\n",
    "plt.plot(c, f, \"r\") \n",
    "plt.plot(d, s, \"g\")\n",
    "plt.plot(r, v, \"y\")\n",
    "\n",
    "def classify(data, k, m = 0): # funktion skapar en kolumn och klassificerar värdet till noll och ett\n",
    "    data[\"label\"] = np.where(data[\"y_points\"] > data[\"x_points\"] * k + m, 0, 1)\n",
    "    return data\n",
    "\n",
    "# -0.489   linje f\n",
    "#  -2 + 0.16 linje h\n",
    "line_h = classify(df, -2, 0.16) # data, k-värde och m-ärde matas in.\n",
    "\n",
    "x_values = line_h[line_h[\"label\"] == 1] # separerar rader som är ettor och nollor\n",
    "y_values = line_h[line_h[\"label\"] == 0]\n",
    "\n",
    "print(len(x_values))"
   ]
  },
  {
   "cell_type": "markdown",
   "metadata": {},
   "source": [
    "Alla linjer har klassificerat data i lika många nollor och ettor fast de har olika lutningar och separera data i olika sätt. Det går också att dela data exakt vid x_axeln och y_axeln med mängd data kan skilja sig beroende på vilken sidan av linjen det är. Linje_g och f har delat data på ett effektiv sätt för att linjenerna har hamnat där det finns minst antal punkter vilket gör att klassifierar data p bättre sätt. Linje_h har gått genom många punkter samt det är nära till där avståndet mellan punkterna minskar och det gör det svårare att klassificerar data. \n"
   ]
  }
 ],
 "metadata": {
  "kernelspec": {
   "display_name": "base",
   "language": "python",
   "name": "python3"
  },
  "language_info": {
   "codemirror_mode": {
    "name": "ipython",
    "version": 3
   },
   "file_extension": ".py",
   "mimetype": "text/x-python",
   "name": "python",
   "nbconvert_exporter": "python",
   "pygments_lexer": "ipython3",
   "version": "3.11.7"
  }
 },
 "nbformat": 4,
 "nbformat_minor": 2
}
