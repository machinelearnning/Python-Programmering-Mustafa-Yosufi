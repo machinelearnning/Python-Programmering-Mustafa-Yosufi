{
 "cells": [
  {
   "cell_type": "code",
   "execution_count": 6,
   "metadata": {},
   "outputs": [],
   "source": [
    "\n",
    "with open('datapoints.txt', \"r\") as data:\n",
    "   lin = data.read()\n",
    "   \n",
    "\n"
   ]
  },
  {
   "cell_type": "code",
   "execution_count": null,
   "metadata": {},
   "outputs": [],
   "source": [
    "import pandas as pd\n",
    "\n",
    "df = pd.read_csv(\"datapoints.txt\")\n",
    "df.columns = df.columns.str.replace(\"(\", \"\").str.replace(\")\", \"\")\n",
    "df.columns = df.columns.str.strip().str.replace(\" \", \"_\")\n",
    "df[\"0-pichu_1-pikachu\"] = df[\"label_0-pichu\"]\n",
    "df = df.drop([\"label_0-pichu\", \"1-pikachu\"], axis = 1)\n",
    "df.head(25)\n"
   ]
  }
 ],
 "metadata": {
  "kernelspec": {
   "display_name": "base",
   "language": "python",
   "name": "python3"
  },
  "language_info": {
   "codemirror_mode": {
    "name": "ipython",
    "version": 3
   },
   "file_extension": ".py",
   "mimetype": "text/x-python",
   "name": "python",
   "nbconvert_exporter": "python",
   "pygments_lexer": "ipython3",
   "version": "3.11.7"
  }
 },
 "nbformat": 4,
 "nbformat_minor": 2
}
