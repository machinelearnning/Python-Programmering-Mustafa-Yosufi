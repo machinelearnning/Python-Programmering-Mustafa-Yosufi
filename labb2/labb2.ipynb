{
 "cells": [
  {
   "cell_type": "code",
   "execution_count": 75,
   "metadata": {},
   "outputs": [],
   "source": [
    "import pandas as pd\n",
    "\n",
    "df = pd.read_csv(\"datapoints.txt\")\n",
    "df.columns = df.columns.str.replace(\"(\", \"\").str.replace(\")\", \"\")\n",
    "df.columns = df.columns.str.strip().str.replace(\" \", \"_\")\n",
    "df[\"Pichu-0_pikachu-1\"] = df[\"label_0-pichu\"]\n",
    "df = df.drop([\"label_0-pichu\", \"1-pikachu\"], axis = 1)\n",
    "df.columns = df.columns.str.capitalize()\n",
    "\n"
   ]
  },
  {
   "cell_type": "code",
   "execution_count": 78,
   "metadata": {},
   "outputs": [],
   "source": [
    "pikachu = df[df[\"Pichu-0_pikachu-1\"] == 1]\n",
    "pichu = df[df[\"Pichu-0_pikachu-1\"] == 0]"
   ]
  },
  {
   "cell_type": "code",
   "execution_count": null,
   "metadata": {},
   "outputs": [],
   "source": [
    "import matplotlib.pyplot as plt\n",
    "plt.scatter(x = pichu[\"width_cm\"], y = pichu[\"height_cm\"], color = \"red\")\n",
    "plt.scatter(x = pikachu[\"width_cm\"], y = pikachu[\"height_cm\"], color = \"blue\")\n",
    "plt.show()"
   ]
  },
  {
   "cell_type": "code",
   "execution_count": 103,
   "metadata": {},
   "outputs": [
    {
     "data": {
      "text/html": [
       "<div>\n",
       "<style scoped>\n",
       "    .dataframe tbody tr th:only-of-type {\n",
       "        vertical-align: middle;\n",
       "    }\n",
       "\n",
       "    .dataframe tbody tr th {\n",
       "        vertical-align: top;\n",
       "    }\n",
       "\n",
       "    .dataframe thead th {\n",
       "        text-align: right;\n",
       "    }\n",
       "</style>\n",
       "<table border=\"1\" class=\"dataframe\">\n",
       "  <thead>\n",
       "    <tr style=\"text-align: right;\">\n",
       "      <th></th>\n",
       "      <th>Test points:</th>\n",
       "    </tr>\n",
       "  </thead>\n",
       "  <tbody>\n",
       "    <tr>\n",
       "      <th>1. (25</th>\n",
       "      <td>32)</td>\n",
       "    </tr>\n",
       "    <tr>\n",
       "      <th>2. (24.2</th>\n",
       "      <td>31.5)</td>\n",
       "    </tr>\n",
       "    <tr>\n",
       "      <th>3. (22</th>\n",
       "      <td>34)</td>\n",
       "    </tr>\n",
       "    <tr>\n",
       "      <th>4. (20.5</th>\n",
       "      <td>34)</td>\n",
       "    </tr>\n",
       "  </tbody>\n",
       "</table>\n",
       "</div>"
      ],
      "text/plain": [
       "         Test points:\n",
       "1. (25            32)\n",
       "2. (24.2        31.5)\n",
       "3. (22            34)\n",
       "4. (20.5          34)"
      ]
     },
     "execution_count": 103,
     "metadata": {},
     "output_type": "execute_result"
    }
   ],
   "source": [
    "test_df = pd.read_csv(\"testpoints.txt\")\n",
    "test_df"
   ]
  },
  {
   "cell_type": "code",
   "execution_count": 87,
   "metadata": {},
   "outputs": [],
   "source": [
    "from sklearn.model_selection import train_test_split\n",
    "x = df[[\"Width_cm\", \"Height_cm\"]] # features\n",
    "y = df[\"Pichu-0_pikachu-1\"] # label\n",
    "x_train,x_test, y_train, y_test = train_test_split(x, y, random_state = 26, test_size = 0.2) # Dela upp i training och testing data."
   ]
  }
 ],
 "metadata": {
  "kernelspec": {
   "display_name": "base",
   "language": "python",
   "name": "python3"
  },
  "language_info": {
   "codemirror_mode": {
    "name": "ipython",
    "version": 3
   },
   "file_extension": ".py",
   "mimetype": "text/x-python",
   "name": "python",
   "nbconvert_exporter": "python",
   "pygments_lexer": "ipython3",
   "version": "3.11.7"
  }
 },
 "nbformat": 4,
 "nbformat_minor": 2
}
